{
 "cells": [
  {
   "cell_type": "code",
   "execution_count": 2,
   "metadata": {},
   "outputs": [],
   "source": [
    "import pandas as pd\n",
    "import numpy as np\n",
    "import matplotlib.pyplot as plt\n",
    "import seaborn as sns"
   ]
  },
  {
   "cell_type": "code",
   "execution_count": 2,
   "metadata": {},
   "outputs": [],
   "source": [
    "pd.options.display.float_format = '{: .4f}'.format"
   ]
  },
  {
   "cell_type": "code",
   "execution_count": 3,
   "metadata": {},
   "outputs": [],
   "source": [
    "data = pd.read_excel(\"./Data Mining Modeling Assignment.xlsx\", sheet_name=\"Data\")"
   ]
  },
  {
   "cell_type": "code",
   "execution_count": 4,
   "metadata": {},
   "outputs": [
    {
     "data": {
      "text/html": [
       "<div>\n",
       "<style scoped>\n",
       "    .dataframe tbody tr th:only-of-type {\n",
       "        vertical-align: middle;\n",
       "    }\n",
       "\n",
       "    .dataframe tbody tr th {\n",
       "        vertical-align: top;\n",
       "    }\n",
       "\n",
       "    .dataframe thead th {\n",
       "        text-align: right;\n",
       "    }\n",
       "</style>\n",
       "<table border=\"1\" class=\"dataframe\">\n",
       "  <thead>\n",
       "    <tr style=\"text-align: right;\">\n",
       "      <th></th>\n",
       "      <th>Cust_Id</th>\n",
       "      <th>Location</th>\n",
       "      <th>Age</th>\n",
       "      <th>Car Ownership</th>\n",
       "      <th>Income</th>\n",
       "      <th>Home Type</th>\n",
       "      <th>Job Experience</th>\n",
       "      <th>Loan Purpose</th>\n",
       "      <th>Loan Grade</th>\n",
       "      <th>Loan Balance</th>\n",
       "      <th>Interest Rate</th>\n",
       "      <th>loan_status</th>\n",
       "      <th>Default History</th>\n",
       "      <th>Credit History</th>\n",
       "    </tr>\n",
       "  </thead>\n",
       "  <tbody>\n",
       "    <tr>\n",
       "      <th>0</th>\n",
       "      <td>1</td>\n",
       "      <td>Hyderabad</td>\n",
       "      <td>22</td>\n",
       "      <td>0</td>\n",
       "      <td>4425000</td>\n",
       "      <td>RENT</td>\n",
       "      <td>123.0000</td>\n",
       "      <td>PERSONAL</td>\n",
       "      <td>D</td>\n",
       "      <td>2625000</td>\n",
       "      <td>16.0200</td>\n",
       "      <td>1</td>\n",
       "      <td>Y</td>\n",
       "      <td>3</td>\n",
       "    </tr>\n",
       "    <tr>\n",
       "      <th>1</th>\n",
       "      <td>2</td>\n",
       "      <td>Pune</td>\n",
       "      <td>21</td>\n",
       "      <td>1</td>\n",
       "      <td>720000</td>\n",
       "      <td>OWN</td>\n",
       "      <td>5.0000</td>\n",
       "      <td>EDUCATION</td>\n",
       "      <td>B</td>\n",
       "      <td>75000</td>\n",
       "      <td>11.1400</td>\n",
       "      <td>0</td>\n",
       "      <td>N</td>\n",
       "      <td>2</td>\n",
       "    </tr>\n",
       "    <tr>\n",
       "      <th>2</th>\n",
       "      <td>3</td>\n",
       "      <td>Mumbai</td>\n",
       "      <td>25</td>\n",
       "      <td>1</td>\n",
       "      <td>720000</td>\n",
       "      <td>MORTGAGE</td>\n",
       "      <td>1.0000</td>\n",
       "      <td>MEDICAL</td>\n",
       "      <td>C</td>\n",
       "      <td>412500</td>\n",
       "      <td>12.8700</td>\n",
       "      <td>1</td>\n",
       "      <td>N</td>\n",
       "      <td>3</td>\n",
       "    </tr>\n",
       "    <tr>\n",
       "      <th>3</th>\n",
       "      <td>4</td>\n",
       "      <td>Hyderabad</td>\n",
       "      <td>23</td>\n",
       "      <td>1</td>\n",
       "      <td>4912500</td>\n",
       "      <td>RENT</td>\n",
       "      <td>4.0000</td>\n",
       "      <td>MEDICAL</td>\n",
       "      <td>C</td>\n",
       "      <td>2625000</td>\n",
       "      <td>15.2300</td>\n",
       "      <td>1</td>\n",
       "      <td>N</td>\n",
       "      <td>2</td>\n",
       "    </tr>\n",
       "    <tr>\n",
       "      <th>4</th>\n",
       "      <td>5</td>\n",
       "      <td>Delhi</td>\n",
       "      <td>24</td>\n",
       "      <td>1</td>\n",
       "      <td>4080000</td>\n",
       "      <td>RENT</td>\n",
       "      <td>8.0000</td>\n",
       "      <td>MEDICAL</td>\n",
       "      <td>C</td>\n",
       "      <td>2625000</td>\n",
       "      <td>14.2700</td>\n",
       "      <td>1</td>\n",
       "      <td>Y</td>\n",
       "      <td>4</td>\n",
       "    </tr>\n",
       "    <tr>\n",
       "      <th>5</th>\n",
       "      <td>6</td>\n",
       "      <td>Pune</td>\n",
       "      <td>21</td>\n",
       "      <td>1</td>\n",
       "      <td>742500</td>\n",
       "      <td>OWN</td>\n",
       "      <td>2.0000</td>\n",
       "      <td>VENTURE</td>\n",
       "      <td>A</td>\n",
       "      <td>187500</td>\n",
       "      <td>7.1400</td>\n",
       "      <td>1</td>\n",
       "      <td>N</td>\n",
       "      <td>2</td>\n",
       "    </tr>\n",
       "    <tr>\n",
       "      <th>6</th>\n",
       "      <td>7</td>\n",
       "      <td>Mumbai</td>\n",
       "      <td>26</td>\n",
       "      <td>0</td>\n",
       "      <td>5782500</td>\n",
       "      <td>RENT</td>\n",
       "      <td>8.0000</td>\n",
       "      <td>EDUCATION</td>\n",
       "      <td>B</td>\n",
       "      <td>2625000</td>\n",
       "      <td>12.4200</td>\n",
       "      <td>1</td>\n",
       "      <td>N</td>\n",
       "      <td>3</td>\n",
       "    </tr>\n",
       "    <tr>\n",
       "      <th>7</th>\n",
       "      <td>8</td>\n",
       "      <td>Bangalore</td>\n",
       "      <td>24</td>\n",
       "      <td>0</td>\n",
       "      <td>5921700</td>\n",
       "      <td>RENT</td>\n",
       "      <td>5.0000</td>\n",
       "      <td>MEDICAL</td>\n",
       "      <td>B</td>\n",
       "      <td>2625000</td>\n",
       "      <td>11.1100</td>\n",
       "      <td>1</td>\n",
       "      <td>N</td>\n",
       "      <td>4</td>\n",
       "    </tr>\n",
       "    <tr>\n",
       "      <th>8</th>\n",
       "      <td>9</td>\n",
       "      <td>Delhi</td>\n",
       "      <td>24</td>\n",
       "      <td>1</td>\n",
       "      <td>6225000</td>\n",
       "      <td>RENT</td>\n",
       "      <td>8.0000</td>\n",
       "      <td>PERSONAL</td>\n",
       "      <td>A</td>\n",
       "      <td>2625000</td>\n",
       "      <td>8.9000</td>\n",
       "      <td>1</td>\n",
       "      <td>N</td>\n",
       "      <td>2</td>\n",
       "    </tr>\n",
       "    <tr>\n",
       "      <th>9</th>\n",
       "      <td>10</td>\n",
       "      <td>Delhi</td>\n",
       "      <td>21</td>\n",
       "      <td>1</td>\n",
       "      <td>750000</td>\n",
       "      <td>OWN</td>\n",
       "      <td>6.0000</td>\n",
       "      <td>VENTURE</td>\n",
       "      <td>D</td>\n",
       "      <td>120000</td>\n",
       "      <td>14.7400</td>\n",
       "      <td>1</td>\n",
       "      <td>N</td>\n",
       "      <td>3</td>\n",
       "    </tr>\n",
       "  </tbody>\n",
       "</table>\n",
       "</div>"
      ],
      "text/plain": [
       "   Cust_Id   Location  Age  Car Ownership   Income Home Type  Job Experience  \\\n",
       "0        1  Hyderabad   22              0  4425000      RENT        123.0000   \n",
       "1        2       Pune   21              1   720000       OWN          5.0000   \n",
       "2        3     Mumbai   25              1   720000  MORTGAGE          1.0000   \n",
       "3        4  Hyderabad   23              1  4912500      RENT          4.0000   \n",
       "4        5      Delhi   24              1  4080000      RENT          8.0000   \n",
       "5        6       Pune   21              1   742500       OWN          2.0000   \n",
       "6        7     Mumbai   26              0  5782500      RENT          8.0000   \n",
       "7        8  Bangalore   24              0  5921700      RENT          5.0000   \n",
       "8        9      Delhi   24              1  6225000      RENT          8.0000   \n",
       "9       10      Delhi   21              1   750000       OWN          6.0000   \n",
       "\n",
       "  Loan Purpose Loan Grade  Loan Balance  Interest Rate  loan_status  \\\n",
       "0     PERSONAL          D       2625000        16.0200            1   \n",
       "1    EDUCATION          B         75000        11.1400            0   \n",
       "2      MEDICAL          C        412500        12.8700            1   \n",
       "3      MEDICAL          C       2625000        15.2300            1   \n",
       "4      MEDICAL          C       2625000        14.2700            1   \n",
       "5      VENTURE          A        187500         7.1400            1   \n",
       "6    EDUCATION          B       2625000        12.4200            1   \n",
       "7      MEDICAL          B       2625000        11.1100            1   \n",
       "8     PERSONAL          A       2625000         8.9000            1   \n",
       "9      VENTURE          D        120000        14.7400            1   \n",
       "\n",
       "  Default History  Credit History  \n",
       "0               Y               3  \n",
       "1               N               2  \n",
       "2               N               3  \n",
       "3               N               2  \n",
       "4               Y               4  \n",
       "5               N               2  \n",
       "6               N               3  \n",
       "7               N               4  \n",
       "8               N               2  \n",
       "9               N               3  "
      ]
     },
     "execution_count": 4,
     "metadata": {},
     "output_type": "execute_result"
    }
   ],
   "source": [
    "data.head(10)"
   ]
  },
  {
   "cell_type": "code",
   "execution_count": 5,
   "metadata": {},
   "outputs": [
    {
     "name": "stdout",
     "output_type": "stream",
     "text": [
      "<class 'pandas.core.frame.DataFrame'>\n",
      "RangeIndex: 32581 entries, 0 to 32580\n",
      "Data columns (total 14 columns):\n",
      " #   Column           Non-Null Count  Dtype  \n",
      "---  ------           --------------  -----  \n",
      " 0   Cust_Id          32581 non-null  int64  \n",
      " 1   Location         32581 non-null  object \n",
      " 2   Age              32581 non-null  int64  \n",
      " 3   Car Ownership    32581 non-null  int64  \n",
      " 4   Income           32581 non-null  int64  \n",
      " 5   Home Type        32581 non-null  object \n",
      " 6   Job Experience   31686 non-null  float64\n",
      " 7   Loan Purpose     32581 non-null  object \n",
      " 8   Loan Grade       32581 non-null  object \n",
      " 9   Loan Balance     32581 non-null  int64  \n",
      " 10  Interest Rate    29465 non-null  float64\n",
      " 11  loan_status      32581 non-null  int64  \n",
      " 12  Default History  32581 non-null  object \n",
      " 13  Credit History   32581 non-null  int64  \n",
      "dtypes: float64(2), int64(7), object(5)\n",
      "memory usage: 3.5+ MB\n"
     ]
    }
   ],
   "source": [
    "data.info()"
   ]
  },
  {
   "cell_type": "code",
   "execution_count": 6,
   "metadata": {},
   "outputs": [
    {
     "data": {
      "text/plain": [
       "array([dtype('int64'), dtype('O'), dtype('float64')], dtype=object)"
      ]
     },
     "execution_count": 6,
     "metadata": {},
     "output_type": "execute_result"
    }
   ],
   "source": [
    "data.dtypes.unique()"
   ]
  },
  {
   "cell_type": "code",
   "execution_count": 7,
   "metadata": {},
   "outputs": [
    {
     "name": "stdout",
     "output_type": "stream",
     "text": [
      "<class 'pandas.core.frame.DataFrame'>\n",
      "RangeIndex: 32581 entries, 0 to 32580\n",
      "Data columns (total 5 columns):\n",
      " #   Column           Non-Null Count  Dtype \n",
      "---  ------           --------------  ----- \n",
      " 0   Location         32581 non-null  object\n",
      " 1   Home Type        32581 non-null  object\n",
      " 2   Loan Purpose     32581 non-null  object\n",
      " 3   Loan Grade       32581 non-null  object\n",
      " 4   Default History  32581 non-null  object\n",
      "dtypes: object(5)\n",
      "memory usage: 1.2+ MB\n"
     ]
    }
   ],
   "source": [
    "data.select_dtypes(include = ['object']).info()"
   ]
  },
  {
   "cell_type": "code",
   "execution_count": 8,
   "metadata": {},
   "outputs": [
    {
     "data": {
      "text/html": [
       "<div>\n",
       "<style scoped>\n",
       "    .dataframe tbody tr th:only-of-type {\n",
       "        vertical-align: middle;\n",
       "    }\n",
       "\n",
       "    .dataframe tbody tr th {\n",
       "        vertical-align: top;\n",
       "    }\n",
       "\n",
       "    .dataframe thead th {\n",
       "        text-align: right;\n",
       "    }\n",
       "</style>\n",
       "<table border=\"1\" class=\"dataframe\">\n",
       "  <thead>\n",
       "    <tr style=\"text-align: right;\">\n",
       "      <th></th>\n",
       "      <th>Location</th>\n",
       "      <th>Home Type</th>\n",
       "      <th>Loan Purpose</th>\n",
       "      <th>Loan Grade</th>\n",
       "      <th>Default History</th>\n",
       "    </tr>\n",
       "  </thead>\n",
       "  <tbody>\n",
       "    <tr>\n",
       "      <th>count</th>\n",
       "      <td>32581</td>\n",
       "      <td>32581</td>\n",
       "      <td>32581</td>\n",
       "      <td>32581</td>\n",
       "      <td>32581</td>\n",
       "    </tr>\n",
       "    <tr>\n",
       "      <th>unique</th>\n",
       "      <td>7</td>\n",
       "      <td>4</td>\n",
       "      <td>6</td>\n",
       "      <td>7</td>\n",
       "      <td>2</td>\n",
       "    </tr>\n",
       "    <tr>\n",
       "      <th>top</th>\n",
       "      <td>Delhi</td>\n",
       "      <td>RENT</td>\n",
       "      <td>EDUCATION</td>\n",
       "      <td>A</td>\n",
       "      <td>N</td>\n",
       "    </tr>\n",
       "    <tr>\n",
       "      <th>freq</th>\n",
       "      <td>4732</td>\n",
       "      <td>16446</td>\n",
       "      <td>6453</td>\n",
       "      <td>10777</td>\n",
       "      <td>26836</td>\n",
       "    </tr>\n",
       "  </tbody>\n",
       "</table>\n",
       "</div>"
      ],
      "text/plain": [
       "       Location Home Type Loan Purpose Loan Grade Default History\n",
       "count     32581     32581        32581      32581           32581\n",
       "unique        7         4            6          7               2\n",
       "top       Delhi      RENT    EDUCATION          A               N\n",
       "freq       4732     16446         6453      10777           26836"
      ]
     },
     "execution_count": 8,
     "metadata": {},
     "output_type": "execute_result"
    }
   ],
   "source": [
    "data.select_dtypes(include = ['object']).describe()"
   ]
  },
  {
   "cell_type": "code",
   "execution_count": 9,
   "metadata": {},
   "outputs": [
    {
     "data": {
      "text/html": [
       "<div>\n",
       "<style scoped>\n",
       "    .dataframe tbody tr th:only-of-type {\n",
       "        vertical-align: middle;\n",
       "    }\n",
       "\n",
       "    .dataframe tbody tr th {\n",
       "        vertical-align: top;\n",
       "    }\n",
       "\n",
       "    .dataframe thead th {\n",
       "        text-align: right;\n",
       "    }\n",
       "</style>\n",
       "<table border=\"1\" class=\"dataframe\">\n",
       "  <thead>\n",
       "    <tr style=\"text-align: right;\">\n",
       "      <th></th>\n",
       "      <th>Location</th>\n",
       "      <th>Home Type</th>\n",
       "      <th>Loan Purpose</th>\n",
       "      <th>Loan Grade</th>\n",
       "      <th>Default History</th>\n",
       "    </tr>\n",
       "  </thead>\n",
       "  <tbody>\n",
       "    <tr>\n",
       "      <th>0</th>\n",
       "      <td>Hyderabad</td>\n",
       "      <td>RENT</td>\n",
       "      <td>PERSONAL</td>\n",
       "      <td>D</td>\n",
       "      <td>Y</td>\n",
       "    </tr>\n",
       "    <tr>\n",
       "      <th>1</th>\n",
       "      <td>Pune</td>\n",
       "      <td>OWN</td>\n",
       "      <td>EDUCATION</td>\n",
       "      <td>B</td>\n",
       "      <td>N</td>\n",
       "    </tr>\n",
       "    <tr>\n",
       "      <th>2</th>\n",
       "      <td>Mumbai</td>\n",
       "      <td>MORTGAGE</td>\n",
       "      <td>MEDICAL</td>\n",
       "      <td>C</td>\n",
       "      <td>N</td>\n",
       "    </tr>\n",
       "    <tr>\n",
       "      <th>3</th>\n",
       "      <td>Hyderabad</td>\n",
       "      <td>RENT</td>\n",
       "      <td>MEDICAL</td>\n",
       "      <td>C</td>\n",
       "      <td>N</td>\n",
       "    </tr>\n",
       "    <tr>\n",
       "      <th>4</th>\n",
       "      <td>Delhi</td>\n",
       "      <td>RENT</td>\n",
       "      <td>MEDICAL</td>\n",
       "      <td>C</td>\n",
       "      <td>Y</td>\n",
       "    </tr>\n",
       "    <tr>\n",
       "      <th>5</th>\n",
       "      <td>Pune</td>\n",
       "      <td>OWN</td>\n",
       "      <td>VENTURE</td>\n",
       "      <td>A</td>\n",
       "      <td>N</td>\n",
       "    </tr>\n",
       "  </tbody>\n",
       "</table>\n",
       "</div>"
      ],
      "text/plain": [
       "    Location Home Type Loan Purpose Loan Grade Default History\n",
       "0  Hyderabad      RENT     PERSONAL          D               Y\n",
       "1       Pune       OWN    EDUCATION          B               N\n",
       "2     Mumbai  MORTGAGE      MEDICAL          C               N\n",
       "3  Hyderabad      RENT      MEDICAL          C               N\n",
       "4      Delhi      RENT      MEDICAL          C               Y\n",
       "5       Pune       OWN      VENTURE          A               N"
      ]
     },
     "execution_count": 9,
     "metadata": {},
     "output_type": "execute_result"
    }
   ],
   "source": [
    "data.select_dtypes(include = ['object']).head(6)"
   ]
  },
  {
   "cell_type": "code",
   "execution_count": 10,
   "metadata": {},
   "outputs": [
    {
     "data": {
      "text/plain": [
       "Cust_Id            0.0000\n",
       "Location           0.0000\n",
       "Age                0.0000\n",
       "Car Ownership      0.0000\n",
       "Income             0.0000\n",
       "Home Type          0.0000\n",
       "Job Experience     2.7470\n",
       "Loan Purpose       0.0000\n",
       "Loan Grade         0.0000\n",
       "Loan Balance       0.0000\n",
       "Interest Rate      9.5639\n",
       "loan_status        0.0000\n",
       "Default History    0.0000\n",
       "Credit History     0.0000\n",
       "dtype: float64"
      ]
     },
     "execution_count": 10,
     "metadata": {},
     "output_type": "execute_result"
    }
   ],
   "source": [
    "data.isnull().sum()/len(data)*100"
   ]
  },
  {
   "cell_type": "code",
   "execution_count": 11,
   "metadata": {},
   "outputs": [],
   "source": [
    "data.set_index('Cust_Id' , inplace = True)"
   ]
  },
  {
   "cell_type": "code",
   "execution_count": 12,
   "metadata": {},
   "outputs": [
    {
     "data": {
      "text/html": [
       "<div>\n",
       "<style scoped>\n",
       "    .dataframe tbody tr th:only-of-type {\n",
       "        vertical-align: middle;\n",
       "    }\n",
       "\n",
       "    .dataframe tbody tr th {\n",
       "        vertical-align: top;\n",
       "    }\n",
       "\n",
       "    .dataframe thead th {\n",
       "        text-align: right;\n",
       "    }\n",
       "</style>\n",
       "<table border=\"1\" class=\"dataframe\">\n",
       "  <thead>\n",
       "    <tr style=\"text-align: right;\">\n",
       "      <th></th>\n",
       "      <th>Location</th>\n",
       "      <th>Age</th>\n",
       "      <th>Car Ownership</th>\n",
       "      <th>Income</th>\n",
       "      <th>Home Type</th>\n",
       "      <th>Job Experience</th>\n",
       "      <th>Loan Purpose</th>\n",
       "      <th>Loan Grade</th>\n",
       "      <th>Loan Balance</th>\n",
       "      <th>Interest Rate</th>\n",
       "      <th>loan_status</th>\n",
       "      <th>Default History</th>\n",
       "      <th>Credit History</th>\n",
       "    </tr>\n",
       "    <tr>\n",
       "      <th>Cust_Id</th>\n",
       "      <th></th>\n",
       "      <th></th>\n",
       "      <th></th>\n",
       "      <th></th>\n",
       "      <th></th>\n",
       "      <th></th>\n",
       "      <th></th>\n",
       "      <th></th>\n",
       "      <th></th>\n",
       "      <th></th>\n",
       "      <th></th>\n",
       "      <th></th>\n",
       "      <th></th>\n",
       "    </tr>\n",
       "  </thead>\n",
       "  <tbody>\n",
       "    <tr>\n",
       "      <th>1</th>\n",
       "      <td>Hyderabad</td>\n",
       "      <td>22</td>\n",
       "      <td>0</td>\n",
       "      <td>4425000</td>\n",
       "      <td>RENT</td>\n",
       "      <td>123.0000</td>\n",
       "      <td>PERSONAL</td>\n",
       "      <td>D</td>\n",
       "      <td>2625000</td>\n",
       "      <td>16.0200</td>\n",
       "      <td>1</td>\n",
       "      <td>Y</td>\n",
       "      <td>3</td>\n",
       "    </tr>\n",
       "    <tr>\n",
       "      <th>2</th>\n",
       "      <td>Pune</td>\n",
       "      <td>21</td>\n",
       "      <td>1</td>\n",
       "      <td>720000</td>\n",
       "      <td>OWN</td>\n",
       "      <td>5.0000</td>\n",
       "      <td>EDUCATION</td>\n",
       "      <td>B</td>\n",
       "      <td>75000</td>\n",
       "      <td>11.1400</td>\n",
       "      <td>0</td>\n",
       "      <td>N</td>\n",
       "      <td>2</td>\n",
       "    </tr>\n",
       "    <tr>\n",
       "      <th>3</th>\n",
       "      <td>Mumbai</td>\n",
       "      <td>25</td>\n",
       "      <td>1</td>\n",
       "      <td>720000</td>\n",
       "      <td>MORTGAGE</td>\n",
       "      <td>1.0000</td>\n",
       "      <td>MEDICAL</td>\n",
       "      <td>C</td>\n",
       "      <td>412500</td>\n",
       "      <td>12.8700</td>\n",
       "      <td>1</td>\n",
       "      <td>N</td>\n",
       "      <td>3</td>\n",
       "    </tr>\n",
       "    <tr>\n",
       "      <th>4</th>\n",
       "      <td>Hyderabad</td>\n",
       "      <td>23</td>\n",
       "      <td>1</td>\n",
       "      <td>4912500</td>\n",
       "      <td>RENT</td>\n",
       "      <td>4.0000</td>\n",
       "      <td>MEDICAL</td>\n",
       "      <td>C</td>\n",
       "      <td>2625000</td>\n",
       "      <td>15.2300</td>\n",
       "      <td>1</td>\n",
       "      <td>N</td>\n",
       "      <td>2</td>\n",
       "    </tr>\n",
       "    <tr>\n",
       "      <th>5</th>\n",
       "      <td>Delhi</td>\n",
       "      <td>24</td>\n",
       "      <td>1</td>\n",
       "      <td>4080000</td>\n",
       "      <td>RENT</td>\n",
       "      <td>8.0000</td>\n",
       "      <td>MEDICAL</td>\n",
       "      <td>C</td>\n",
       "      <td>2625000</td>\n",
       "      <td>14.2700</td>\n",
       "      <td>1</td>\n",
       "      <td>Y</td>\n",
       "      <td>4</td>\n",
       "    </tr>\n",
       "  </tbody>\n",
       "</table>\n",
       "</div>"
      ],
      "text/plain": [
       "          Location  Age  Car Ownership   Income Home Type  Job Experience  \\\n",
       "Cust_Id                                                                     \n",
       "1        Hyderabad   22              0  4425000      RENT        123.0000   \n",
       "2             Pune   21              1   720000       OWN          5.0000   \n",
       "3           Mumbai   25              1   720000  MORTGAGE          1.0000   \n",
       "4        Hyderabad   23              1  4912500      RENT          4.0000   \n",
       "5            Delhi   24              1  4080000      RENT          8.0000   \n",
       "\n",
       "        Loan Purpose Loan Grade  Loan Balance  Interest Rate  loan_status  \\\n",
       "Cust_Id                                                                     \n",
       "1           PERSONAL          D       2625000        16.0200            1   \n",
       "2          EDUCATION          B         75000        11.1400            0   \n",
       "3            MEDICAL          C        412500        12.8700            1   \n",
       "4            MEDICAL          C       2625000        15.2300            1   \n",
       "5            MEDICAL          C       2625000        14.2700            1   \n",
       "\n",
       "        Default History  Credit History  \n",
       "Cust_Id                                  \n",
       "1                     Y               3  \n",
       "2                     N               2  \n",
       "3                     N               3  \n",
       "4                     N               2  \n",
       "5                     Y               4  "
      ]
     },
     "execution_count": 12,
     "metadata": {},
     "output_type": "execute_result"
    }
   ],
   "source": [
    "data.head()"
   ]
  },
  {
   "cell_type": "code",
   "execution_count": 13,
   "metadata": {},
   "outputs": [
    {
     "data": {
      "text/html": [
       "<div>\n",
       "<style scoped>\n",
       "    .dataframe tbody tr th:only-of-type {\n",
       "        vertical-align: middle;\n",
       "    }\n",
       "\n",
       "    .dataframe tbody tr th {\n",
       "        vertical-align: top;\n",
       "    }\n",
       "\n",
       "    .dataframe thead th {\n",
       "        text-align: right;\n",
       "    }\n",
       "</style>\n",
       "<table border=\"1\" class=\"dataframe\">\n",
       "  <thead>\n",
       "    <tr style=\"text-align: right;\">\n",
       "      <th></th>\n",
       "      <th>Age</th>\n",
       "      <th>Car Ownership</th>\n",
       "      <th>Income</th>\n",
       "      <th>Job Experience</th>\n",
       "      <th>Loan Balance</th>\n",
       "      <th>Interest Rate</th>\n",
       "      <th>loan_status</th>\n",
       "      <th>Credit History</th>\n",
       "    </tr>\n",
       "  </thead>\n",
       "  <tbody>\n",
       "    <tr>\n",
       "      <th>count</th>\n",
       "      <td>32581.0000</td>\n",
       "      <td>32581.0000</td>\n",
       "      <td>32581.0000</td>\n",
       "      <td>31686.0000</td>\n",
       "      <td>32581.0000</td>\n",
       "      <td>29465.0000</td>\n",
       "      <td>32581.0000</td>\n",
       "      <td>32581.0000</td>\n",
       "    </tr>\n",
       "    <tr>\n",
       "      <th>mean</th>\n",
       "      <td>27.7346</td>\n",
       "      <td>0.5006</td>\n",
       "      <td>4955613.6352</td>\n",
       "      <td>4.7897</td>\n",
       "      <td>719202.8329</td>\n",
       "      <td>11.0117</td>\n",
       "      <td>0.2182</td>\n",
       "      <td>5.8042</td>\n",
       "    </tr>\n",
       "    <tr>\n",
       "      <th>std</th>\n",
       "      <td>6.3481</td>\n",
       "      <td>0.5000</td>\n",
       "      <td>4648733.9376</td>\n",
       "      <td>4.1426</td>\n",
       "      <td>474156.4984</td>\n",
       "      <td>3.2405</td>\n",
       "      <td>0.4130</td>\n",
       "      <td>4.0550</td>\n",
       "    </tr>\n",
       "    <tr>\n",
       "      <th>min</th>\n",
       "      <td>20.0000</td>\n",
       "      <td>0.0000</td>\n",
       "      <td>300000.0000</td>\n",
       "      <td>0.0000</td>\n",
       "      <td>37500.0000</td>\n",
       "      <td>5.4200</td>\n",
       "      <td>0.0000</td>\n",
       "      <td>2.0000</td>\n",
       "    </tr>\n",
       "    <tr>\n",
       "      <th>25%</th>\n",
       "      <td>23.0000</td>\n",
       "      <td>0.0000</td>\n",
       "      <td>2887500.0000</td>\n",
       "      <td>2.0000</td>\n",
       "      <td>375000.0000</td>\n",
       "      <td>7.9000</td>\n",
       "      <td>0.0000</td>\n",
       "      <td>3.0000</td>\n",
       "    </tr>\n",
       "    <tr>\n",
       "      <th>50%</th>\n",
       "      <td>26.0000</td>\n",
       "      <td>1.0000</td>\n",
       "      <td>4125000.0000</td>\n",
       "      <td>4.0000</td>\n",
       "      <td>600000.0000</td>\n",
       "      <td>10.9900</td>\n",
       "      <td>0.0000</td>\n",
       "      <td>4.0000</td>\n",
       "    </tr>\n",
       "    <tr>\n",
       "      <th>75%</th>\n",
       "      <td>30.0000</td>\n",
       "      <td>1.0000</td>\n",
       "      <td>5940000.0000</td>\n",
       "      <td>7.0000</td>\n",
       "      <td>915000.0000</td>\n",
       "      <td>13.4700</td>\n",
       "      <td>0.0000</td>\n",
       "      <td>8.0000</td>\n",
       "    </tr>\n",
       "    <tr>\n",
       "      <th>max</th>\n",
       "      <td>144.0000</td>\n",
       "      <td>1.0000</td>\n",
       "      <td>450000000.0000</td>\n",
       "      <td>123.0000</td>\n",
       "      <td>2625000.0000</td>\n",
       "      <td>23.2200</td>\n",
       "      <td>1.0000</td>\n",
       "      <td>30.0000</td>\n",
       "    </tr>\n",
       "  </tbody>\n",
       "</table>\n",
       "</div>"
      ],
      "text/plain": [
       "              Age  Car Ownership          Income  Job Experience  \\\n",
       "count  32581.0000     32581.0000      32581.0000      31686.0000   \n",
       "mean      27.7346         0.5006    4955613.6352          4.7897   \n",
       "std        6.3481         0.5000    4648733.9376          4.1426   \n",
       "min       20.0000         0.0000     300000.0000          0.0000   \n",
       "25%       23.0000         0.0000    2887500.0000          2.0000   \n",
       "50%       26.0000         1.0000    4125000.0000          4.0000   \n",
       "75%       30.0000         1.0000    5940000.0000          7.0000   \n",
       "max      144.0000         1.0000  450000000.0000        123.0000   \n",
       "\n",
       "       Loan Balance  Interest Rate  loan_status  Credit History  \n",
       "count    32581.0000     29465.0000   32581.0000      32581.0000  \n",
       "mean    719202.8329        11.0117       0.2182          5.8042  \n",
       "std     474156.4984         3.2405       0.4130          4.0550  \n",
       "min      37500.0000         5.4200       0.0000          2.0000  \n",
       "25%     375000.0000         7.9000       0.0000          3.0000  \n",
       "50%     600000.0000        10.9900       0.0000          4.0000  \n",
       "75%     915000.0000        13.4700       0.0000          8.0000  \n",
       "max    2625000.0000        23.2200       1.0000         30.0000  "
      ]
     },
     "execution_count": 13,
     "metadata": {},
     "output_type": "execute_result"
    }
   ],
   "source": [
    "data.select_dtypes(exclude = ['object']).describe()"
   ]
  },
  {
   "cell_type": "code",
   "execution_count": 14,
   "metadata": {},
   "outputs": [
    {
     "data": {
      "text/plain": [
       "21.816396059052824"
      ]
     },
     "execution_count": 14,
     "metadata": {},
     "output_type": "execute_result"
    }
   ],
   "source": [
    "len(data[data['loan_status'] == 1])/len(data['loan_status'])*100"
   ]
  },
  {
   "cell_type": "code",
   "execution_count": 15,
   "metadata": {},
   "outputs": [
    {
     "data": {
      "text/plain": [
       "Index(['Age', 'Car Ownership', 'Income', 'Job Experience', 'Loan Balance',\n",
       "       'Interest Rate', 'loan_status', 'Credit History'],\n",
       "      dtype='object')"
      ]
     },
     "execution_count": 15,
     "metadata": {},
     "output_type": "execute_result"
    }
   ],
   "source": [
    "data.select_dtypes(exclude = ['object']).columns"
   ]
  },
  {
   "cell_type": "code",
   "execution_count": 16,
   "metadata": {},
   "outputs": [],
   "source": [
    "pd.plotting.register_matplotlib_converters()\n",
    "import matplotlib.pyplot as plt\n",
    "%matplotlib inline\n",
    "import seaborn as sns\n",
    "\n",
    "# sns.set_style('whitegrid')"
   ]
  },
  {
   "cell_type": "code",
   "execution_count": 17,
   "metadata": {},
   "outputs": [],
   "source": [
    "temp = data.drop(columns = ['loan_status'])\n",
    "col = temp.select_dtypes(exclude = ['object']).columns"
   ]
  },
  {
   "cell_type": "code",
   "execution_count": 18,
   "metadata": {},
   "outputs": [
    {
     "data": {
      "text/plain": [
       "Index(['Age', 'Car Ownership', 'Income', 'Job Experience', 'Loan Balance',\n",
       "       'Interest Rate', 'Credit History'],\n",
       "      dtype='object')"
      ]
     },
     "execution_count": 18,
     "metadata": {},
     "output_type": "execute_result"
    }
   ],
   "source": [
    "col"
   ]
  },
  {
   "cell_type": "code",
   "execution_count": 19,
   "metadata": {},
   "outputs": [],
   "source": [
    "col_obj = data.select_dtypes(include = ['object']).columns"
   ]
  },
  {
   "cell_type": "code",
   "execution_count": 20,
   "metadata": {},
   "outputs": [
    {
     "data": {
      "text/plain": [
       "Index(['Location', 'Home Type', 'Loan Purpose', 'Loan Grade',\n",
       "       'Default History'],\n",
       "      dtype='object')"
      ]
     },
     "execution_count": 20,
     "metadata": {},
     "output_type": "execute_result"
    }
   ],
   "source": [
    "col_obj"
   ]
  },
  {
   "cell_type": "code",
   "execution_count": 21,
   "metadata": {},
   "outputs": [],
   "source": [
    "def plot_grid(data, fig_size, grid_size, plot_type, target = ''):\n",
    "    fig = plt.figure(figsize = fig_size)\n",
    "    if plot_type == 'histplot':\n",
    "        for i, column_name in enumerate(col):\n",
    "            fig.add_subplot(grid_size[0], grid_size[1], i + 1)\n",
    "            plot = sns.histplot(x = data[column_name],hue = data[target], kde = True, palette = {0 : 'black', 1 : 'royalblue'}, stat = 'count')\n",
    "    if plot_type == 'boxplot':\n",
    "        for i, column_name in enumerate(data.select_dtypes(exclude = 'object').columns):\n",
    "            fig.add_subplot(grid_size[0], grid_size[1], i + 1)\n",
    "            plot = sns.boxplot(x = data[column_name], color = 'red')\n",
    "    if plot_type == 'countplot':\n",
    "#         target = data[target]\n",
    "        for i, column_name in enumerate(col_obj):\n",
    "            fig.add_subplot(grid_size[0], grid_size[1], i + 1)\n",
    "            plot = sns.countplot(x = data[column_name], hue = data[target], palette = {0 : 'black', 1 : 'royalblue'})\n",
    "#             plot.legend(loc = 'upper right', title = target.name)\n",
    "    plt.tight_layout()"
   ]
  },
  {
   "cell_type": "code",
   "execution_count": 22,
   "metadata": {
    "scrolled": true
   },
   "outputs": [
    {
     "data": {
      "image/png": "[encoded data removed]",
      "text/plain": [
       "<Figure size 1440x864 with 7 Axes>"
      ]
     },
     "metadata": {
      "needs_background": "light"
     },
     "output_type": "display_data"
    }
   ],
   "source": [
    "plot_grid(data, (20,12), (3,3), 'histplot', target = 'loan_status')"
   ]
  },
  {
   "cell_type": "code",
   "execution_count": 23,
   "metadata": {},
   "outputs": [
    {
     "name": "stdout",
     "output_type": "stream",
     "text": [
      "max and min Incomes are 450000000 and 300000 respectively\n"
     ]
    }
   ],
   "source": [
    "print(\"max and min Incomes are\", data['Income'].max() ,\"and\" ,data['Income'].min() , \"respectively\")"
   ]
  },
  {
   "cell_type": "markdown",
   "metadata": {},
   "source": [
    "Converting the incomes to log of incomes  because the incomes were heavily skewed towards the right"
   ]
  },
  {
   "cell_type": "code",
   "execution_count": 24,
   "metadata": {
    "scrolled": true
   },
   "outputs": [
    {
     "data": {
      "image/png": "[encoded data removed]",
      "text/plain": [
       "<Figure size 1152x432 with 1 Axes>"
      ]
     },
     "metadata": {
      "needs_background": "light"
     },
     "output_type": "display_data"
    }
   ],
   "source": [
    "fig, ax =  plt.subplots(figsize = (16,6))\n",
    "plot = sns.histplot(x = np.log(data['Income']),hue = data['loan_status'], kde = True, palette = {0 : 'black', 1 : 'royalblue'},ax = ax, stat = 'count')\n",
    "# ax.set_xlim(300000,25000000)"
   ]
  },
  {
   "cell_type": "code",
   "execution_count": 25,
   "metadata": {},
   "outputs": [
    {
     "data": {
      "text/plain": [
       "118"
      ]
     },
     "execution_count": 25,
     "metadata": {},
     "output_type": "execute_result"
    }
   ],
   "source": [
    "len(data[data['Income'] > 25000000])"
   ]
  },
  {
   "cell_type": "code",
   "execution_count": 26,
   "metadata": {},
   "outputs": [
    {
     "data": {
      "text/plain": [
       "32463"
      ]
     },
     "execution_count": 26,
     "metadata": {},
     "output_type": "execute_result"
    }
   ],
   "source": [
    "len(data[data['Income'] < 25000000])"
   ]
  },
  {
   "cell_type": "markdown",
   "metadata": {},
   "source": [
    "outliers in Age"
   ]
  },
  {
   "cell_type": "code",
   "execution_count": 27,
   "metadata": {},
   "outputs": [
    {
     "name": "stdout",
     "output_type": "stream",
     "text": [
      "Number of people with age greater than 95 : 5 \n",
      "Number of people with age less than 95: 32576\n"
     ]
    }
   ],
   "source": [
    "print('Number of people with age greater than 95 :',len(data[data['Age'] > 95]),'\\nNumber of people with age less than 95:',len(data[data['Age'] < 95]))\n",
    "#we can discard age more than 100 which are very few in numbers"
   ]
  },
  {
   "cell_type": "code",
   "execution_count": 28,
   "metadata": {},
   "outputs": [
    {
     "data": {
      "text/html": [
       "<div>\n",
       "<style scoped>\n",
       "    .dataframe tbody tr th:only-of-type {\n",
       "        vertical-align: middle;\n",
       "    }\n",
       "\n",
       "    .dataframe tbody tr th {\n",
       "        vertical-align: top;\n",
       "    }\n",
       "\n",
       "    .dataframe thead th {\n",
       "        text-align: right;\n",
       "    }\n",
       "</style>\n",
       "<table border=\"1\" class=\"dataframe\">\n",
       "  <thead>\n",
       "    <tr style=\"text-align: right;\">\n",
       "      <th></th>\n",
       "      <th>Location</th>\n",
       "      <th>Age</th>\n",
       "      <th>Car Ownership</th>\n",
       "      <th>Income</th>\n",
       "      <th>Home Type</th>\n",
       "      <th>Job Experience</th>\n",
       "      <th>Loan Purpose</th>\n",
       "      <th>Loan Grade</th>\n",
       "      <th>Loan Balance</th>\n",
       "      <th>Interest Rate</th>\n",
       "      <th>loan_status</th>\n",
       "      <th>Default History</th>\n",
       "      <th>Credit History</th>\n",
       "    </tr>\n",
       "    <tr>\n",
       "      <th>Cust_Id</th>\n",
       "      <th></th>\n",
       "      <th></th>\n",
       "      <th></th>\n",
       "      <th></th>\n",
       "      <th></th>\n",
       "      <th></th>\n",
       "      <th></th>\n",
       "      <th></th>\n",
       "      <th></th>\n",
       "      <th></th>\n",
       "      <th></th>\n",
       "      <th></th>\n",
       "      <th></th>\n",
       "    </tr>\n",
       "  </thead>\n",
       "  <tbody>\n",
       "    <tr>\n",
       "      <th>82</th>\n",
       "      <td>Delhi</td>\n",
       "      <td>144</td>\n",
       "      <td>1</td>\n",
       "      <td>18750000</td>\n",
       "      <td>RENT</td>\n",
       "      <td>4.0000</td>\n",
       "      <td>VENTURE</td>\n",
       "      <td>C</td>\n",
       "      <td>360000</td>\n",
       "      <td>13.5700</td>\n",
       "      <td>0</td>\n",
       "      <td>N</td>\n",
       "      <td>3</td>\n",
       "    </tr>\n",
       "    <tr>\n",
       "      <th>184</th>\n",
       "      <td>Kolkata</td>\n",
       "      <td>144</td>\n",
       "      <td>1</td>\n",
       "      <td>15000000</td>\n",
       "      <td>MORTGAGE</td>\n",
       "      <td>4.0000</td>\n",
       "      <td>EDUCATION</td>\n",
       "      <td>B</td>\n",
       "      <td>450000</td>\n",
       "      <td>11.8600</td>\n",
       "      <td>0</td>\n",
       "      <td>N</td>\n",
       "      <td>2</td>\n",
       "    </tr>\n",
       "    <tr>\n",
       "      <th>576</th>\n",
       "      <td>Kolkata</td>\n",
       "      <td>123</td>\n",
       "      <td>1</td>\n",
       "      <td>6000300</td>\n",
       "      <td>RENT</td>\n",
       "      <td>2.0000</td>\n",
       "      <td>EDUCATION</td>\n",
       "      <td>B</td>\n",
       "      <td>1530000</td>\n",
       "      <td>10.2500</td>\n",
       "      <td>0</td>\n",
       "      <td>N</td>\n",
       "      <td>3</td>\n",
       "    </tr>\n",
       "    <tr>\n",
       "      <th>748</th>\n",
       "      <td>Chennai</td>\n",
       "      <td>123</td>\n",
       "      <td>1</td>\n",
       "      <td>5850000</td>\n",
       "      <td>RENT</td>\n",
       "      <td>7.0000</td>\n",
       "      <td>VENTURE</td>\n",
       "      <td>B</td>\n",
       "      <td>1500000</td>\n",
       "      <td>nan</td>\n",
       "      <td>0</td>\n",
       "      <td>N</td>\n",
       "      <td>4</td>\n",
       "    </tr>\n",
       "    <tr>\n",
       "      <th>32298</th>\n",
       "      <td>Mumbai</td>\n",
       "      <td>144</td>\n",
       "      <td>0</td>\n",
       "      <td>450000000</td>\n",
       "      <td>MORTGAGE</td>\n",
       "      <td>12.0000</td>\n",
       "      <td>PERSONAL</td>\n",
       "      <td>C</td>\n",
       "      <td>375000</td>\n",
       "      <td>12.7300</td>\n",
       "      <td>0</td>\n",
       "      <td>N</td>\n",
       "      <td>25</td>\n",
       "    </tr>\n",
       "  </tbody>\n",
       "</table>\n",
       "</div>"
      ],
      "text/plain": [
       "        Location  Age  Car Ownership     Income Home Type  Job Experience  \\\n",
       "Cust_Id                                                                     \n",
       "82         Delhi  144              1   18750000      RENT          4.0000   \n",
       "184      Kolkata  144              1   15000000  MORTGAGE          4.0000   \n",
       "576      Kolkata  123              1    6000300      RENT          2.0000   \n",
       "748      Chennai  123              1    5850000      RENT          7.0000   \n",
       "32298     Mumbai  144              0  450000000  MORTGAGE         12.0000   \n",
       "\n",
       "        Loan Purpose Loan Grade  Loan Balance  Interest Rate  loan_status  \\\n",
       "Cust_Id                                                                     \n",
       "82           VENTURE          C        360000        13.5700            0   \n",
       "184        EDUCATION          B        450000        11.8600            0   \n",
       "576        EDUCATION          B       1530000        10.2500            0   \n",
       "748          VENTURE          B       1500000            nan            0   \n",
       "32298       PERSONAL          C        375000        12.7300            0   \n",
       "\n",
       "        Default History  Credit History  \n",
       "Cust_Id                                  \n",
       "82                    N               3  \n",
       "184                   N               2  \n",
       "576                   N               3  \n",
       "748                   N               4  \n",
       "32298                 N              25  "
      ]
     },
     "execution_count": 28,
     "metadata": {},
     "output_type": "execute_result"
    }
   ],
   "source": [
    "data[data['Age']>95]"
   ]
  },
  {
   "cell_type": "code",
   "execution_count": 29,
   "metadata": {},
   "outputs": [
    {
     "data": {
      "text/plain": [
       "9"
      ]
     },
     "execution_count": 29,
     "metadata": {},
     "output_type": "execute_result"
    }
   ],
   "source": [
    "len(data[data['Job Experience'] > 30])"
   ]
  },
  {
   "cell_type": "code",
   "execution_count": 30,
   "metadata": {},
   "outputs": [
    {
     "data": {
      "text/html": [
       "<div>\n",
       "<style scoped>\n",
       "    .dataframe tbody tr th:only-of-type {\n",
       "        vertical-align: middle;\n",
       "    }\n",
       "\n",
       "    .dataframe tbody tr th {\n",
       "        vertical-align: top;\n",
       "    }\n",
       "\n",
       "    .dataframe thead th {\n",
       "        text-align: right;\n",
       "    }\n",
       "</style>\n",
       "<table border=\"1\" class=\"dataframe\">\n",
       "  <thead>\n",
       "    <tr style=\"text-align: right;\">\n",
       "      <th></th>\n",
       "      <th>Location</th>\n",
       "      <th>Age</th>\n",
       "      <th>Car Ownership</th>\n",
       "      <th>Income</th>\n",
       "      <th>Home Type</th>\n",
       "      <th>Job Experience</th>\n",
       "      <th>Loan Purpose</th>\n",
       "      <th>Loan Grade</th>\n",
       "      <th>Loan Balance</th>\n",
       "      <th>Interest Rate</th>\n",
       "      <th>loan_status</th>\n",
       "      <th>Default History</th>\n",
       "      <th>Credit History</th>\n",
       "    </tr>\n",
       "    <tr>\n",
       "      <th>Cust_Id</th>\n",
       "      <th></th>\n",
       "      <th></th>\n",
       "      <th></th>\n",
       "      <th></th>\n",
       "      <th></th>\n",
       "      <th></th>\n",
       "      <th></th>\n",
       "      <th></th>\n",
       "      <th></th>\n",
       "      <th></th>\n",
       "      <th></th>\n",
       "      <th></th>\n",
       "      <th></th>\n",
       "    </tr>\n",
       "  </thead>\n",
       "  <tbody>\n",
       "    <tr>\n",
       "      <th>1</th>\n",
       "      <td>Hyderabad</td>\n",
       "      <td>22</td>\n",
       "      <td>0</td>\n",
       "      <td>4425000</td>\n",
       "      <td>RENT</td>\n",
       "      <td>123.0000</td>\n",
       "      <td>PERSONAL</td>\n",
       "      <td>D</td>\n",
       "      <td>2625000</td>\n",
       "      <td>16.0200</td>\n",
       "      <td>1</td>\n",
       "      <td>Y</td>\n",
       "      <td>3</td>\n",
       "    </tr>\n",
       "    <tr>\n",
       "      <th>211</th>\n",
       "      <td>Hyderabad</td>\n",
       "      <td>21</td>\n",
       "      <td>1</td>\n",
       "      <td>14400000</td>\n",
       "      <td>MORTGAGE</td>\n",
       "      <td>123.0000</td>\n",
       "      <td>VENTURE</td>\n",
       "      <td>A</td>\n",
       "      <td>1500000</td>\n",
       "      <td>6.5400</td>\n",
       "      <td>0</td>\n",
       "      <td>N</td>\n",
       "      <td>4</td>\n",
       "    </tr>\n",
       "    <tr>\n",
       "      <th>30915</th>\n",
       "      <td>Hyderabad</td>\n",
       "      <td>48</td>\n",
       "      <td>1</td>\n",
       "      <td>5250000</td>\n",
       "      <td>MORTGAGE</td>\n",
       "      <td>31.0000</td>\n",
       "      <td>HOMEIMPROVEMENT</td>\n",
       "      <td>D</td>\n",
       "      <td>675000</td>\n",
       "      <td>14.5400</td>\n",
       "      <td>0</td>\n",
       "      <td>N</td>\n",
       "      <td>17</td>\n",
       "    </tr>\n",
       "    <tr>\n",
       "      <th>31867</th>\n",
       "      <td>Chennai</td>\n",
       "      <td>47</td>\n",
       "      <td>0</td>\n",
       "      <td>13350000</td>\n",
       "      <td>OWN</td>\n",
       "      <td>31.0000</td>\n",
       "      <td>VENTURE</td>\n",
       "      <td>B</td>\n",
       "      <td>675000</td>\n",
       "      <td>10.9900</td>\n",
       "      <td>0</td>\n",
       "      <td>N</td>\n",
       "      <td>17</td>\n",
       "    </tr>\n",
       "    <tr>\n",
       "      <th>31868</th>\n",
       "      <td>Kolkata</td>\n",
       "      <td>46</td>\n",
       "      <td>1</td>\n",
       "      <td>13500000</td>\n",
       "      <td>MORTGAGE</td>\n",
       "      <td>31.0000</td>\n",
       "      <td>VENTURE</td>\n",
       "      <td>B</td>\n",
       "      <td>1350000</td>\n",
       "      <td>9.9100</td>\n",
       "      <td>0</td>\n",
       "      <td>N</td>\n",
       "      <td>11</td>\n",
       "    </tr>\n",
       "    <tr>\n",
       "      <th>32264</th>\n",
       "      <td>Bangalore</td>\n",
       "      <td>46</td>\n",
       "      <td>1</td>\n",
       "      <td>13500000</td>\n",
       "      <td>MORTGAGE</td>\n",
       "      <td>31.0000</td>\n",
       "      <td>MEDICAL</td>\n",
       "      <td>B</td>\n",
       "      <td>1350000</td>\n",
       "      <td>9.9100</td>\n",
       "      <td>0</td>\n",
       "      <td>N</td>\n",
       "      <td>12</td>\n",
       "    </tr>\n",
       "    <tr>\n",
       "      <th>32356</th>\n",
       "      <td>Delhi</td>\n",
       "      <td>78</td>\n",
       "      <td>0</td>\n",
       "      <td>3600000</td>\n",
       "      <td>RENT</td>\n",
       "      <td>41.0000</td>\n",
       "      <td>MEDICAL</td>\n",
       "      <td>A</td>\n",
       "      <td>225000</td>\n",
       "      <td>7.5100</td>\n",
       "      <td>0</td>\n",
       "      <td>N</td>\n",
       "      <td>25</td>\n",
       "    </tr>\n",
       "    <tr>\n",
       "      <th>32429</th>\n",
       "      <td>Hyderabad</td>\n",
       "      <td>58</td>\n",
       "      <td>1</td>\n",
       "      <td>3675000</td>\n",
       "      <td>MORTGAGE</td>\n",
       "      <td>34.0000</td>\n",
       "      <td>MEDICAL</td>\n",
       "      <td>D</td>\n",
       "      <td>562500</td>\n",
       "      <td>13.5500</td>\n",
       "      <td>1</td>\n",
       "      <td>Y</td>\n",
       "      <td>24</td>\n",
       "    </tr>\n",
       "    <tr>\n",
       "      <th>32516</th>\n",
       "      <td>Pune</td>\n",
       "      <td>53</td>\n",
       "      <td>0</td>\n",
       "      <td>7950000</td>\n",
       "      <td>MORTGAGE</td>\n",
       "      <td>38.0000</td>\n",
       "      <td>PERSONAL</td>\n",
       "      <td>B</td>\n",
       "      <td>1500000</td>\n",
       "      <td>9.8800</td>\n",
       "      <td>0</td>\n",
       "      <td>N</td>\n",
       "      <td>23</td>\n",
       "    </tr>\n",
       "  </tbody>\n",
       "</table>\n",
       "</div>"
      ],
      "text/plain": [
       "          Location  Age  Car Ownership    Income Home Type  Job Experience  \\\n",
       "Cust_Id                                                                      \n",
       "1        Hyderabad   22              0   4425000      RENT        123.0000   \n",
       "211      Hyderabad   21              1  14400000  MORTGAGE        123.0000   \n",
       "30915    Hyderabad   48              1   5250000  MORTGAGE         31.0000   \n",
       "31867      Chennai   47              0  13350000       OWN         31.0000   \n",
       "31868      Kolkata   46              1  13500000  MORTGAGE         31.0000   \n",
       "32264    Bangalore   46              1  13500000  MORTGAGE         31.0000   \n",
       "32356        Delhi   78              0   3600000      RENT         41.0000   \n",
       "32429    Hyderabad   58              1   3675000  MORTGAGE         34.0000   \n",
       "32516         Pune   53              0   7950000  MORTGAGE         38.0000   \n",
       "\n",
       "            Loan Purpose Loan Grade  Loan Balance  Interest Rate  loan_status  \\\n",
       "Cust_Id                                                                         \n",
       "1               PERSONAL          D       2625000        16.0200            1   \n",
       "211              VENTURE          A       1500000         6.5400            0   \n",
       "30915    HOMEIMPROVEMENT          D        675000        14.5400            0   \n",
       "31867            VENTURE          B        675000        10.9900            0   \n",
       "31868            VENTURE          B       1350000         9.9100            0   \n",
       "32264            MEDICAL          B       1350000         9.9100            0   \n",
       "32356            MEDICAL          A        225000         7.5100            0   \n",
       "32429            MEDICAL          D        562500        13.5500            1   \n",
       "32516           PERSONAL          B       1500000         9.8800            0   \n",
       "\n",
       "        Default History  Credit History  \n",
       "Cust_Id                                  \n",
       "1                     Y               3  \n",
       "211                   N               4  \n",
       "30915                 N              17  \n",
       "31867                 N              17  \n",
       "31868                 N              11  \n",
       "32264                 N              12  \n",
       "32356                 N              25  \n",
       "32429                 Y              24  \n",
       "32516                 N              23  "
      ]
     },
     "execution_count": 30,
     "metadata": {},
     "output_type": "execute_result"
    }
   ],
   "source": [
    "data[data['Job Experience'] > 30]"
   ]
  },
  {
   "cell_type": "markdown",
   "metadata": {},
   "source": [
    "There are Two observations with job experience unnaturally high of 123 years"
   ]
  },
  {
   "cell_type": "code",
   "execution_count": 31,
   "metadata": {
    "scrolled": true
   },
   "outputs": [
    {
     "data": {
      "image/png": "[encoded data removed]",
      "text/plain": [
       "<Figure size 1440x864 with 5 Axes>"
      ]
     },
     "metadata": {
      "needs_background": "light"
     },
     "output_type": "display_data"
    }
   ],
   "source": [
    "plot_grid(data, (20,12), (3,2), 'countplot', target = 'loan_status')"
   ]
  },
  {
   "cell_type": "code",
   "execution_count": 32,
   "metadata": {},
   "outputs": [
    {
     "data": {
      "text/plain": [
       "107"
      ]
     },
     "execution_count": 32,
     "metadata": {},
     "output_type": "execute_result"
    }
   ],
   "source": [
    "len(data[data['Home Type'] == 'OTHER'])"
   ]
  },
  {
   "cell_type": "code",
   "execution_count": 33,
   "metadata": {},
   "outputs": [],
   "source": [
    "data1 = pd.read_excel(\"./Data Mining Modeling Assignment.xlsx\", sheet_name=\"Data\")"
   ]
  },
  {
   "cell_type": "code",
   "execution_count": 34,
   "metadata": {},
   "outputs": [],
   "source": [
    "def pivot(index):\n",
    "    pivot_tbl = pd.pivot_table(data1 , index = index , columns = 'loan_status' ,values = 'Cust_Id' , aggfunc = 'count')\n",
    "    total = pivot_tbl[0]+pivot_tbl[1]\n",
    "    pivot_tbl['default perc'] = pivot_tbl[1]/total*100\n",
    "#     pivot_tbl.reset_index(drop = True, inplace = True)\n",
    "    return pivot_tbl.sort_values(by = ['default perc'] , ascending = False)"
   ]
  },
  {
   "cell_type": "code",
   "execution_count": 35,
   "metadata": {},
   "outputs": [
    {
     "data": {
      "text/html": [
       "<div>\n",
       "<style scoped>\n",
       "    .dataframe tbody tr th:only-of-type {\n",
       "        vertical-align: middle;\n",
       "    }\n",
       "\n",
       "    .dataframe tbody tr th {\n",
       "        vertical-align: top;\n",
       "    }\n",
       "\n",
       "    .dataframe thead th {\n",
       "        text-align: right;\n",
       "    }\n",
       "</style>\n",
       "<table border=\"1\" class=\"dataframe\">\n",
       "  <thead>\n",
       "    <tr style=\"text-align: right;\">\n",
       "      <th>loan_status</th>\n",
       "      <th>0</th>\n",
       "      <th>1</th>\n",
       "      <th>default perc</th>\n",
       "    </tr>\n",
       "    <tr>\n",
       "      <th>Loan Purpose</th>\n",
       "      <th></th>\n",
       "      <th></th>\n",
       "      <th></th>\n",
       "    </tr>\n",
       "  </thead>\n",
       "  <tbody>\n",
       "    <tr>\n",
       "      <th>DEBTCONSOLIDATION</th>\n",
       "      <td>3722</td>\n",
       "      <td>1490</td>\n",
       "      <td>28.5879</td>\n",
       "    </tr>\n",
       "    <tr>\n",
       "      <th>MEDICAL</th>\n",
       "      <td>4450</td>\n",
       "      <td>1621</td>\n",
       "      <td>26.7007</td>\n",
       "    </tr>\n",
       "    <tr>\n",
       "      <th>HOMEIMPROVEMENT</th>\n",
       "      <td>2664</td>\n",
       "      <td>941</td>\n",
       "      <td>26.1026</td>\n",
       "    </tr>\n",
       "    <tr>\n",
       "      <th>PERSONAL</th>\n",
       "      <td>4423</td>\n",
       "      <td>1098</td>\n",
       "      <td>19.8877</td>\n",
       "    </tr>\n",
       "    <tr>\n",
       "      <th>EDUCATION</th>\n",
       "      <td>5342</td>\n",
       "      <td>1111</td>\n",
       "      <td>17.2168</td>\n",
       "    </tr>\n",
       "    <tr>\n",
       "      <th>VENTURE</th>\n",
       "      <td>4872</td>\n",
       "      <td>847</td>\n",
       "      <td>14.8103</td>\n",
       "    </tr>\n",
       "  </tbody>\n",
       "</table>\n",
       "</div>"
      ],
      "text/plain": [
       "loan_status           0     1  default perc\n",
       "Loan Purpose                               \n",
       "DEBTCONSOLIDATION  3722  1490       28.5879\n",
       "MEDICAL            4450  1621       26.7007\n",
       "HOMEIMPROVEMENT    2664   941       26.1026\n",
       "PERSONAL           4423  1098       19.8877\n",
       "EDUCATION          5342  1111       17.2168\n",
       "VENTURE            4872   847       14.8103"
      ]
     },
     "execution_count": 35,
     "metadata": {},
     "output_type": "execute_result"
    }
   ],
   "source": [
    "pivot('Loan Purpose')"
   ]
  },
  {
   "cell_type": "code",
   "execution_count": 36,
   "metadata": {},
   "outputs": [
    {
     "data": {
      "text/html": [
       "<div>\n",
       "<style scoped>\n",
       "    .dataframe tbody tr th:only-of-type {\n",
       "        vertical-align: middle;\n",
       "    }\n",
       "\n",
       "    .dataframe tbody tr th {\n",
       "        vertical-align: top;\n",
       "    }\n",
       "\n",
       "    .dataframe thead th {\n",
       "        text-align: right;\n",
       "    }\n",
       "</style>\n",
       "<table border=\"1\" class=\"dataframe\">\n",
       "  <thead>\n",
       "    <tr style=\"text-align: right;\">\n",
       "      <th>loan_status</th>\n",
       "      <th>0</th>\n",
       "      <th>1</th>\n",
       "      <th>default perc</th>\n",
       "    </tr>\n",
       "    <tr>\n",
       "      <th>Location</th>\n",
       "      <th></th>\n",
       "      <th></th>\n",
       "      <th></th>\n",
       "    </tr>\n",
       "  </thead>\n",
       "  <tbody>\n",
       "    <tr>\n",
       "      <th>Mumbai</th>\n",
       "      <td>3609</td>\n",
       "      <td>1069</td>\n",
       "      <td>22.8516</td>\n",
       "    </tr>\n",
       "    <tr>\n",
       "      <th>Pune</th>\n",
       "      <td>3458</td>\n",
       "      <td>1002</td>\n",
       "      <td>22.4664</td>\n",
       "    </tr>\n",
       "    <tr>\n",
       "      <th>Delhi</th>\n",
       "      <td>3703</td>\n",
       "      <td>1029</td>\n",
       "      <td>21.7456</td>\n",
       "    </tr>\n",
       "    <tr>\n",
       "      <th>Kolkata</th>\n",
       "      <td>3638</td>\n",
       "      <td>1009</td>\n",
       "      <td>21.7129</td>\n",
       "    </tr>\n",
       "    <tr>\n",
       "      <th>Bangalore</th>\n",
       "      <td>3635</td>\n",
       "      <td>1004</td>\n",
       "      <td>21.6426</td>\n",
       "    </tr>\n",
       "    <tr>\n",
       "      <th>Hyderabad</th>\n",
       "      <td>3714</td>\n",
       "      <td>1002</td>\n",
       "      <td>21.2468</td>\n",
       "    </tr>\n",
       "    <tr>\n",
       "      <th>Chennai</th>\n",
       "      <td>3716</td>\n",
       "      <td>993</td>\n",
       "      <td>21.0873</td>\n",
       "    </tr>\n",
       "  </tbody>\n",
       "</table>\n",
       "</div>"
      ],
      "text/plain": [
       "loan_status     0     1  default perc\n",
       "Location                             \n",
       "Mumbai       3609  1069       22.8516\n",
       "Pune         3458  1002       22.4664\n",
       "Delhi        3703  1029       21.7456\n",
       "Kolkata      3638  1009       21.7129\n",
       "Bangalore    3635  1004       21.6426\n",
       "Hyderabad    3714  1002       21.2468\n",
       "Chennai      3716   993       21.0873"
      ]
     },
     "execution_count": 36,
     "metadata": {},
     "output_type": "execute_result"
    }
   ],
   "source": [
    "pivot('Location')"
   ]
  },
  {
   "cell_type": "code",
   "execution_count": 37,
   "metadata": {},
   "outputs": [
    {
     "data": {
      "text/html": [
       "<div>\n",
       "<style scoped>\n",
       "    .dataframe tbody tr th:only-of-type {\n",
       "        vertical-align: middle;\n",
       "    }\n",
       "\n",
       "    .dataframe tbody tr th {\n",
       "        vertical-align: top;\n",
       "    }\n",
       "\n",
       "    .dataframe thead th {\n",
       "        text-align: right;\n",
       "    }\n",
       "</style>\n",
       "<table border=\"1\" class=\"dataframe\">\n",
       "  <thead>\n",
       "    <tr style=\"text-align: right;\">\n",
       "      <th>loan_status</th>\n",
       "      <th>0</th>\n",
       "      <th>1</th>\n",
       "      <th>default perc</th>\n",
       "    </tr>\n",
       "    <tr>\n",
       "      <th>Home Type</th>\n",
       "      <th></th>\n",
       "      <th></th>\n",
       "      <th></th>\n",
       "    </tr>\n",
       "  </thead>\n",
       "  <tbody>\n",
       "    <tr>\n",
       "      <th>RENT</th>\n",
       "      <td>11254</td>\n",
       "      <td>5192</td>\n",
       "      <td>31.5700</td>\n",
       "    </tr>\n",
       "    <tr>\n",
       "      <th>OTHER</th>\n",
       "      <td>74</td>\n",
       "      <td>33</td>\n",
       "      <td>30.8411</td>\n",
       "    </tr>\n",
       "    <tr>\n",
       "      <th>MORTGAGE</th>\n",
       "      <td>11754</td>\n",
       "      <td>1690</td>\n",
       "      <td>12.5707</td>\n",
       "    </tr>\n",
       "    <tr>\n",
       "      <th>OWN</th>\n",
       "      <td>2391</td>\n",
       "      <td>193</td>\n",
       "      <td>7.4690</td>\n",
       "    </tr>\n",
       "  </tbody>\n",
       "</table>\n",
       "</div>"
      ],
      "text/plain": [
       "loan_status      0     1  default perc\n",
       "Home Type                             \n",
       "RENT         11254  5192       31.5700\n",
       "OTHER           74    33       30.8411\n",
       "MORTGAGE     11754  1690       12.5707\n",
       "OWN           2391   193        7.4690"
      ]
     },
     "execution_count": 37,
     "metadata": {},
     "output_type": "execute_result"
    }
   ],
   "source": [
    "pivot('Home Type')"
   ]
  },
  {
   "cell_type": "code",
   "execution_count": 38,
   "metadata": {},
   "outputs": [
    {
     "data": {
      "text/html": [
       "<div>\n",
       "<style scoped>\n",
       "    .dataframe tbody tr th:only-of-type {\n",
       "        vertical-align: middle;\n",
       "    }\n",
       "\n",
       "    .dataframe tbody tr th {\n",
       "        vertical-align: top;\n",
       "    }\n",
       "\n",
       "    .dataframe thead th {\n",
       "        text-align: right;\n",
       "    }\n",
       "</style>\n",
       "<table border=\"1\" class=\"dataframe\">\n",
       "  <thead>\n",
       "    <tr style=\"text-align: right;\">\n",
       "      <th>loan_status</th>\n",
       "      <th>0</th>\n",
       "      <th>1</th>\n",
       "      <th>default perc</th>\n",
       "    </tr>\n",
       "    <tr>\n",
       "      <th>Loan Grade</th>\n",
       "      <th></th>\n",
       "      <th></th>\n",
       "      <th></th>\n",
       "    </tr>\n",
       "  </thead>\n",
       "  <tbody>\n",
       "    <tr>\n",
       "      <th>G</th>\n",
       "      <td>1</td>\n",
       "      <td>63</td>\n",
       "      <td>98.4375</td>\n",
       "    </tr>\n",
       "    <tr>\n",
       "      <th>F</th>\n",
       "      <td>71</td>\n",
       "      <td>170</td>\n",
       "      <td>70.5394</td>\n",
       "    </tr>\n",
       "    <tr>\n",
       "      <th>E</th>\n",
       "      <td>343</td>\n",
       "      <td>621</td>\n",
       "      <td>64.4191</td>\n",
       "    </tr>\n",
       "    <tr>\n",
       "      <th>D</th>\n",
       "      <td>1485</td>\n",
       "      <td>2141</td>\n",
       "      <td>59.0458</td>\n",
       "    </tr>\n",
       "    <tr>\n",
       "      <th>C</th>\n",
       "      <td>5119</td>\n",
       "      <td>1339</td>\n",
       "      <td>20.7340</td>\n",
       "    </tr>\n",
       "    <tr>\n",
       "      <th>B</th>\n",
       "      <td>8750</td>\n",
       "      <td>1701</td>\n",
       "      <td>16.2760</td>\n",
       "    </tr>\n",
       "    <tr>\n",
       "      <th>A</th>\n",
       "      <td>9704</td>\n",
       "      <td>1073</td>\n",
       "      <td>9.9564</td>\n",
       "    </tr>\n",
       "  </tbody>\n",
       "</table>\n",
       "</div>"
      ],
      "text/plain": [
       "loan_status     0     1  default perc\n",
       "Loan Grade                           \n",
       "G               1    63       98.4375\n",
       "F              71   170       70.5394\n",
       "E             343   621       64.4191\n",
       "D            1485  2141       59.0458\n",
       "C            5119  1339       20.7340\n",
       "B            8750  1701       16.2760\n",
       "A            9704  1073        9.9564"
      ]
     },
     "execution_count": 38,
     "metadata": {},
     "output_type": "execute_result"
    }
   ],
   "source": [
    "pivot('Loan Grade')"
   ]
  },
  {
   "cell_type": "code",
   "execution_count": 39,
   "metadata": {},
   "outputs": [
    {
     "data": {
      "text/html": [
       "<div>\n",
       "<style scoped>\n",
       "    .dataframe tbody tr th:only-of-type {\n",
       "        vertical-align: middle;\n",
       "    }\n",
       "\n",
       "    .dataframe tbody tr th {\n",
       "        vertical-align: top;\n",
       "    }\n",
       "\n",
       "    .dataframe thead th {\n",
       "        text-align: right;\n",
       "    }\n",
       "</style>\n",
       "<table border=\"1\" class=\"dataframe\">\n",
       "  <thead>\n",
       "    <tr style=\"text-align: right;\">\n",
       "      <th>loan_status</th>\n",
       "      <th>0</th>\n",
       "      <th>1</th>\n",
       "      <th>default perc</th>\n",
       "    </tr>\n",
       "    <tr>\n",
       "      <th>Default History</th>\n",
       "      <th></th>\n",
       "      <th></th>\n",
       "      <th></th>\n",
       "    </tr>\n",
       "  </thead>\n",
       "  <tbody>\n",
       "    <tr>\n",
       "      <th>Y</th>\n",
       "      <td>3573</td>\n",
       "      <td>2172</td>\n",
       "      <td>37.8068</td>\n",
       "    </tr>\n",
       "    <tr>\n",
       "      <th>N</th>\n",
       "      <td>21900</td>\n",
       "      <td>4936</td>\n",
       "      <td>18.3932</td>\n",
       "    </tr>\n",
       "  </tbody>\n",
       "</table>\n",
       "</div>"
      ],
      "text/plain": [
       "loan_status          0     1  default perc\n",
       "Default History                           \n",
       "Y                 3573  2172       37.8068\n",
       "N                21900  4936       18.3932"
      ]
     },
     "execution_count": 39,
     "metadata": {},
     "output_type": "execute_result"
    }
   ],
   "source": [
    "pivot('Default History')"
   ]
  },
  {
   "cell_type": "code",
   "execution_count": 40,
   "metadata": {},
   "outputs": [],
   "source": [
    "def pivot_plot(index,colour):\n",
    "    pivot_tbl = pd.pivot_table(data1 , index = index , columns = 'loan_status' ,values = 'Cust_Id' , aggfunc = 'count')\n",
    "    total = pivot_tbl[0]+pivot_tbl[1]\n",
    "    pivot_tbl['default perc'] = pivot_tbl[1]/total*100\n",
    "    pivot_tbl = pivot_tbl.drop(columns = [0,1]).sort_values(by = ['default perc'], ascending = False)\n",
    "#     plt.figure(figsize = (10,5))\n",
    "    return sns.barplot(x=pivot_tbl.index.values,  y=pivot_tbl['default perc'] , palette = colour)"
   ]
  },
  {
   "cell_type": "code",
   "execution_count": 41,
   "metadata": {},
   "outputs": [],
   "source": [
    "def pivot_plot_all(fig_size, grid_size, colour):\n",
    "    fig = plt.figure(figsize = fig_size)\n",
    "    for i, column_name in enumerate(col_obj):\n",
    "        fig.add_subplot(grid_size[0], grid_size[1], i + 1)\n",
    "        plot = pivot_plot(column_name,colour)\n",
    "        plot.set_title(column_name)\n",
    "    plt.tight_layout()"
   ]
  },
  {
   "cell_type": "code",
   "execution_count": 42,
   "metadata": {},
   "outputs": [
    {
     "data": {
      "image/png": "[encoded data removed]",
      "text/plain": [
       "<Figure size 1440x864 with 5 Axes>"
      ]
     },
     "metadata": {
      "needs_background": "light"
     },
     "output_type": "display_data"
    }
   ],
   "source": [
    "#Function which plots the default percentage based on Location,HomeType,Loan purpose,loanGrade,DefaultHistory\n",
    "pivot_plot_all((20,12),(3,2),'Purples_r')"
   ]
  },
  {
   "cell_type": "code",
   "execution_count": 43,
   "metadata": {},
   "outputs": [
    {
     "data": {
      "text/plain": [
       "<AxesSubplot:>"
      ]
     },
     "execution_count": 43,
     "metadata": {},
     "output_type": "execute_result"
    },
    {
     "data": {
      "image/png": "[encoded data removed]",
      "text/plain": [
       "<Figure size 1152x432 with 2 Axes>"
      ]
     },
     "metadata": {
      "needs_background": "light"
     },
     "output_type": "display_data"
    }
   ],
   "source": [
    "plt.figure(figsize = (16, 6))\n",
    "sns.heatmap(data.corr(), \n",
    "            annot = True,\n",
    "            fmt = '.2f',\n",
    "            square = True,\n",
    "            cmap = \"Blues_r\", \n",
    "            mask = np.triu(data.corr()))"
   ]
  },
  {
   "cell_type": "markdown",
   "metadata": {},
   "source": [
    "CreditHistory and Age are Heavily Correlated"
   ]
  },
  {
   "cell_type": "code",
   "execution_count": 44,
   "metadata": {},
   "outputs": [
    {
     "data": {
      "text/plain": [
       "Location           0.0000\n",
       "Age                0.0000\n",
       "Car Ownership      0.0000\n",
       "Income             0.0000\n",
       "Home Type          0.0000\n",
       "Job Experience     2.7470\n",
       "Loan Purpose       0.0000\n",
       "Loan Grade         0.0000\n",
       "Loan Balance       0.0000\n",
       "Interest Rate      9.5639\n",
       "loan_status        0.0000\n",
       "Default History    0.0000\n",
       "Credit History     0.0000\n",
       "dtype: float64"
      ]
     },
     "execution_count": 44,
     "metadata": {},
     "output_type": "execute_result"
    }
   ],
   "source": [
    "data.isnull().sum()/len(data)*100"
   ]
  },
  {
   "cell_type": "code",
   "execution_count": 45,
   "metadata": {},
   "outputs": [],
   "source": [
    "def interaction(col_null,grid_size,fig_size,colour):\n",
    "    fig = plt.figure(figsize = fig_size)\n",
    "    for i, column_name in enumerate(col_obj):\n",
    "        tmp = data.groupby(column_name)[col_null].mean()\n",
    "        tmp_pd = pd.DataFrame(tmp).sort_values(by = [col_null] , ascending = False)\n",
    "        fig.add_subplot(grid_size[0], grid_size[1], i + 1)\n",
    "        plot = sns.barplot(x=tmp_pd.index.values,  y=tmp_pd[col_null] , palette = colour)\n",
    "        plot.set_title(column_name)\n",
    "    plt.tight_layout()\n",
    "    "
   ]
  },
  {
   "cell_type": "code",
   "execution_count": 46,
   "metadata": {},
   "outputs": [
    {
     "data": {
      "image/png": "[encoded data removed]",
      "text/plain": [
       "<Figure size 1440x864 with 5 Axes>"
      ]
     },
     "metadata": {
      "needs_background": "light"
     },
     "output_type": "display_data"
    }
   ],
   "source": [
    "#interaction of job experience with the different categorical variables\n",
    "interaction('Job Experience',(3,2),(20,12),'crest_r')"
   ]
  },
  {
   "cell_type": "markdown",
   "metadata": {},
   "source": [
    "we can see from the above graphs that the job experience(Containing null values) vary with the different classes of the categorical variables \n",
    "So we can take the mean job experience with respect to the different classes of any one categorical variable to impute the missing job exp values"
   ]
  },
  {
   "cell_type": "code",
   "execution_count": 47,
   "metadata": {},
   "outputs": [
    {
     "data": {
      "image/png": "[encoded data removed]",
      "text/plain": [
       "<Figure size 1440x864 with 5 Axes>"
      ]
     },
     "metadata": {
      "needs_background": "light"
     },
     "output_type": "display_data"
    }
   ],
   "source": [
    "#interaction of interset rate with the different categorical variables\n",
    "interaction('Interest Rate',(3,2),(20,12),'GnBu_r')"
   ]
  },
  {
   "cell_type": "markdown",
   "metadata": {},
   "source": [
    "we can see from the above graphs that the interest rate(Containing null values) vary with the different classes of the categorical variables \n",
    "So we can take the mean interest rate with respect to the different classes of any one categorical variable to impute the missing values"
   ]
  },
  {
   "cell_type": "markdown",
   "metadata": {},
   "source": [
    "# Data Preprocessing"
   ]
  },
  {
   "cell_type": "markdown",
   "metadata": {},
   "source": [
    "## Removing Outliers"
   ]
  },
  {
   "cell_type": "code",
   "execution_count": 3,
   "metadata": {},
   "outputs": [],
   "source": [
    "data = pd.read_excel(\"./Data Mining Modeling Assignment.xlsx\", sheet_name=\"Data\")\n",
    "data = data.loc[(data[\"Job Experience\"] != 123)]\n",
    "data = data.loc[(data[\"Age\"] <= 100 )]"
   ]
  },
  {
   "cell_type": "markdown",
   "metadata": {},
   "source": [
    "## Imputing null Values"
   ]
  },
  {
   "cell_type": "code",
   "execution_count": 4,
   "metadata": {},
   "outputs": [
    {
     "data": {
      "text/plain": [
       "Cust_Id            0.000000\n",
       "Location           0.000000\n",
       "Age                0.000000\n",
       "Car Ownership      0.000000\n",
       "Income             0.000000\n",
       "Home Type          0.000000\n",
       "Job Experience     2.747590\n",
       "Loan Purpose       0.000000\n",
       "Loan Grade         0.000000\n",
       "Loan Balance       0.000000\n",
       "Interest Rate      9.562842\n",
       "loan_status        0.000000\n",
       "Default History    0.000000\n",
       "Credit History     0.000000\n",
       "dtype: float64"
      ]
     },
     "execution_count": 4,
     "metadata": {},
     "output_type": "execute_result"
    }
   ],
   "source": [
    "data.isna().sum()/len(data) * 100"
   ]
  },
  {
   "cell_type": "code",
   "execution_count": 5,
   "metadata": {},
   "outputs": [
    {
     "data": {
      "text/plain": [
       "11.011528565123772"
      ]
     },
     "execution_count": 5,
     "metadata": {},
     "output_type": "execute_result"
    }
   ],
   "source": [
    "data[\"Interest Rate\"].mean()"
   ]
  },
  {
   "cell_type": "markdown",
   "metadata": {},
   "source": [
    "### Imputing Interest rate based on the Loan Grade"
   ]
  },
  {
   "cell_type": "code",
   "execution_count": 6,
   "metadata": {},
   "outputs": [
    {
     "data": {
      "text/plain": [
       "Loan Grade\n",
       "A     7.33\n",
       "B    11.00\n",
       "C    13.46\n",
       "D    15.36\n",
       "E    17.01\n",
       "F    18.61\n",
       "G    20.25\n",
       "Name: Interest Rate, dtype: float64"
      ]
     },
     "execution_count": 6,
     "metadata": {},
     "output_type": "execute_result"
    }
   ],
   "source": [
    "impute_interest_rate = round(data.groupby([\"Loan Grade\"])[\"Interest Rate\"].mean(),2)\n",
    "#impute_interest_rate = impute_interest_rate.reset_index()\n",
    "impute_interest_rate"
   ]
  },
  {
   "cell_type": "code",
   "execution_count": 7,
   "metadata": {},
   "outputs": [],
   "source": [
    "for row in data.index:\n",
    "    data.at[row,'Interest Rate'] = np.where(pd.isnull(data.at[row,'Interest Rate']), \n",
    "                                    impute_interest_rate.loc[(impute_interest_rate.index == data.at[row,'Loan Grade'])],data.at[row,'Interest Rate'])"
   ]
  },
  {
   "cell_type": "markdown",
   "metadata": {},
   "source": [
    "### Imputation for the Interest Rate is done !!!"
   ]
  },
  {
   "cell_type": "code",
   "execution_count": 8,
   "metadata": {},
   "outputs": [
    {
     "data": {
      "text/plain": [
       "Cust_Id            0.00000\n",
       "Location           0.00000\n",
       "Age                0.00000\n",
       "Car Ownership      0.00000\n",
       "Income             0.00000\n",
       "Home Type          0.00000\n",
       "Job Experience     2.74759\n",
       "Loan Purpose       0.00000\n",
       "Loan Grade         0.00000\n",
       "Loan Balance       0.00000\n",
       "Interest Rate      0.00000\n",
       "loan_status        0.00000\n",
       "Default History    0.00000\n",
       "Credit History     0.00000\n",
       "dtype: float64"
      ]
     },
     "execution_count": 8,
     "metadata": {},
     "output_type": "execute_result"
    }
   ],
   "source": [
    "data.isna().sum()/len(data) * 100"
   ]
  },
  {
   "cell_type": "markdown",
   "metadata": {},
   "source": [
    "### Imputing Job Experience based on the age"
   ]
  },
  {
   "cell_type": "code",
   "execution_count": 9,
   "metadata": {},
   "outputs": [],
   "source": [
    "job_expe_grp_by = round(data.groupby([\"Age\"])[\"Job Experience\"].mean(), 2)"
   ]
  },
  {
   "cell_type": "code",
   "execution_count": 10,
   "metadata": {},
   "outputs": [],
   "source": [
    "for row in data.index:\n",
    "    data.at[row,'Job Experience'] = np.where(pd.isnull(data.at[row,'Job Experience']), \n",
    "                                    job_expe_grp_by.loc[(job_expe_grp_by.index == data.at[row,'Age']),],data.at[row,'Job Experience'])"
   ]
  },
  {
   "cell_type": "markdown",
   "metadata": {},
   "source": [
    "### Imputation of Job Experience is done"
   ]
  },
  {
   "cell_type": "code",
   "execution_count": 11,
   "metadata": {},
   "outputs": [
    {
     "data": {
      "text/plain": [
       "Cust_Id            0.0\n",
       "Location           0.0\n",
       "Age                0.0\n",
       "Car Ownership      0.0\n",
       "Income             0.0\n",
       "Home Type          0.0\n",
       "Job Experience     0.0\n",
       "Loan Purpose       0.0\n",
       "Loan Grade         0.0\n",
       "Loan Balance       0.0\n",
       "Interest Rate      0.0\n",
       "loan_status        0.0\n",
       "Default History    0.0\n",
       "Credit History     0.0\n",
       "dtype: float64"
      ]
     },
     "execution_count": 11,
     "metadata": {},
     "output_type": "execute_result"
    }
   ],
   "source": [
    "data.isna().sum()/len(data) * 100"
   ]
  },
  {
   "cell_type": "markdown",
   "metadata": {},
   "source": [
    "## One Hot Encoding for the Categorical Variable"
   ]
  },
  {
   "cell_type": "code",
   "execution_count": 12,
   "metadata": {},
   "outputs": [],
   "source": [
    "data_location = pd.get_dummies(data.Location, prefix = 'Location')\n",
    "data_Home_Type = pd.get_dummies(data[\"Home Type\"], prefix = 'Home_Type')\n",
    "data_Loan_Purpose = pd.get_dummies(data[\"Loan Purpose\"], prefix = 'Loan_Purpose')\n",
    "data_Loan_Grade = pd.get_dummies(data[\"Loan Grade\"], prefix = 'Loan_Grade')\n",
    "data_Default_History = pd.get_dummies(data[\"Default History\"], prefix = 'Default_History')"
   ]
  },
  {
   "cell_type": "code",
   "execution_count": 13,
   "metadata": {},
   "outputs": [],
   "source": [
    "data1 = pd.concat([data, data_Home_Type, data_Loan_Grade, data_Loan_Purpose, data_Default_History, data_location], axis = 1 )"
   ]
  },
  {
   "cell_type": "code",
   "execution_count": 14,
   "metadata": {},
   "outputs": [
    {
     "data": {
      "text/html": [
       "<div>\n",
       "<style scoped>\n",
       "    .dataframe tbody tr th:only-of-type {\n",
       "        vertical-align: middle;\n",
       "    }\n",
       "\n",
       "    .dataframe tbody tr th {\n",
       "        vertical-align: top;\n",
       "    }\n",
       "\n",
       "    .dataframe thead th {\n",
       "        text-align: right;\n",
       "    }\n",
       "</style>\n",
       "<table border=\"1\" class=\"dataframe\">\n",
       "  <thead>\n",
       "    <tr style=\"text-align: right;\">\n",
       "      <th></th>\n",
       "      <th>Cust_Id</th>\n",
       "      <th>Age</th>\n",
       "      <th>Car Ownership</th>\n",
       "      <th>Income</th>\n",
       "      <th>Job Experience</th>\n",
       "      <th>Loan Balance</th>\n",
       "      <th>Interest Rate</th>\n",
       "      <th>loan_status</th>\n",
       "      <th>Credit History</th>\n",
       "      <th>Home_Type_MORTGAGE</th>\n",
       "      <th>...</th>\n",
       "      <th>Loan_Purpose_VENTURE</th>\n",
       "      <th>Default_History_N</th>\n",
       "      <th>Default_History_Y</th>\n",
       "      <th>Location_Bangalore</th>\n",
       "      <th>Location_Chennai</th>\n",
       "      <th>Location_Delhi</th>\n",
       "      <th>Location_Hyderabad</th>\n",
       "      <th>Location_Kolkata</th>\n",
       "      <th>Location_Mumbai</th>\n",
       "      <th>Location_Pune</th>\n",
       "    </tr>\n",
       "  </thead>\n",
       "  <tbody>\n",
       "    <tr>\n",
       "      <th>1</th>\n",
       "      <td>2</td>\n",
       "      <td>21</td>\n",
       "      <td>1</td>\n",
       "      <td>720000</td>\n",
       "      <td>5.0</td>\n",
       "      <td>75000</td>\n",
       "      <td>11.14</td>\n",
       "      <td>0</td>\n",
       "      <td>2</td>\n",
       "      <td>0</td>\n",
       "      <td>...</td>\n",
       "      <td>0</td>\n",
       "      <td>1</td>\n",
       "      <td>0</td>\n",
       "      <td>0</td>\n",
       "      <td>0</td>\n",
       "      <td>0</td>\n",
       "      <td>0</td>\n",
       "      <td>0</td>\n",
       "      <td>0</td>\n",
       "      <td>1</td>\n",
       "    </tr>\n",
       "    <tr>\n",
       "      <th>2</th>\n",
       "      <td>3</td>\n",
       "      <td>25</td>\n",
       "      <td>1</td>\n",
       "      <td>720000</td>\n",
       "      <td>1.0</td>\n",
       "      <td>412500</td>\n",
       "      <td>12.87</td>\n",
       "      <td>1</td>\n",
       "      <td>3</td>\n",
       "      <td>1</td>\n",
       "      <td>...</td>\n",
       "      <td>0</td>\n",
       "      <td>1</td>\n",
       "      <td>0</td>\n",
       "      <td>0</td>\n",
       "      <td>0</td>\n",
       "      <td>0</td>\n",
       "      <td>0</td>\n",
       "      <td>0</td>\n",
       "      <td>1</td>\n",
       "      <td>0</td>\n",
       "    </tr>\n",
       "    <tr>\n",
       "      <th>3</th>\n",
       "      <td>4</td>\n",
       "      <td>23</td>\n",
       "      <td>1</td>\n",
       "      <td>4912500</td>\n",
       "      <td>4.0</td>\n",
       "      <td>2625000</td>\n",
       "      <td>15.23</td>\n",
       "      <td>1</td>\n",
       "      <td>2</td>\n",
       "      <td>0</td>\n",
       "      <td>...</td>\n",
       "      <td>0</td>\n",
       "      <td>1</td>\n",
       "      <td>0</td>\n",
       "      <td>0</td>\n",
       "      <td>0</td>\n",
       "      <td>0</td>\n",
       "      <td>1</td>\n",
       "      <td>0</td>\n",
       "      <td>0</td>\n",
       "      <td>0</td>\n",
       "    </tr>\n",
       "    <tr>\n",
       "      <th>4</th>\n",
       "      <td>5</td>\n",
       "      <td>24</td>\n",
       "      <td>1</td>\n",
       "      <td>4080000</td>\n",
       "      <td>8.0</td>\n",
       "      <td>2625000</td>\n",
       "      <td>14.27</td>\n",
       "      <td>1</td>\n",
       "      <td>4</td>\n",
       "      <td>0</td>\n",
       "      <td>...</td>\n",
       "      <td>0</td>\n",
       "      <td>0</td>\n",
       "      <td>1</td>\n",
       "      <td>0</td>\n",
       "      <td>0</td>\n",
       "      <td>1</td>\n",
       "      <td>0</td>\n",
       "      <td>0</td>\n",
       "      <td>0</td>\n",
       "      <td>0</td>\n",
       "    </tr>\n",
       "    <tr>\n",
       "      <th>5</th>\n",
       "      <td>6</td>\n",
       "      <td>21</td>\n",
       "      <td>1</td>\n",
       "      <td>742500</td>\n",
       "      <td>2.0</td>\n",
       "      <td>187500</td>\n",
       "      <td>7.14</td>\n",
       "      <td>1</td>\n",
       "      <td>2</td>\n",
       "      <td>0</td>\n",
       "      <td>...</td>\n",
       "      <td>1</td>\n",
       "      <td>1</td>\n",
       "      <td>0</td>\n",
       "      <td>0</td>\n",
       "      <td>0</td>\n",
       "      <td>0</td>\n",
       "      <td>0</td>\n",
       "      <td>0</td>\n",
       "      <td>0</td>\n",
       "      <td>1</td>\n",
       "    </tr>\n",
       "  </tbody>\n",
       "</table>\n",
       "<p>5 rows × 35 columns</p>\n",
       "</div>"
      ],
      "text/plain": [
       "   Cust_Id  Age  Car Ownership   Income  Job Experience  Loan Balance  \\\n",
       "1        2   21              1   720000             5.0         75000   \n",
       "2        3   25              1   720000             1.0        412500   \n",
       "3        4   23              1  4912500             4.0       2625000   \n",
       "4        5   24              1  4080000             8.0       2625000   \n",
       "5        6   21              1   742500             2.0        187500   \n",
       "\n",
       "   Interest Rate  loan_status  Credit History  Home_Type_MORTGAGE  ...  \\\n",
       "1          11.14            0               2                   0  ...   \n",
       "2          12.87            1               3                   1  ...   \n",
       "3          15.23            1               2                   0  ...   \n",
       "4          14.27            1               4                   0  ...   \n",
       "5           7.14            1               2                   0  ...   \n",
       "\n",
       "   Loan_Purpose_VENTURE  Default_History_N  Default_History_Y  \\\n",
       "1                     0                  1                  0   \n",
       "2                     0                  1                  0   \n",
       "3                     0                  1                  0   \n",
       "4                     0                  0                  1   \n",
       "5                     1                  1                  0   \n",
       "\n",
       "   Location_Bangalore  Location_Chennai  Location_Delhi  Location_Hyderabad  \\\n",
       "1                   0                 0               0                   0   \n",
       "2                   0                 0               0                   0   \n",
       "3                   0                 0               0                   1   \n",
       "4                   0                 0               1                   0   \n",
       "5                   0                 0               0                   0   \n",
       "\n",
       "   Location_Kolkata  Location_Mumbai  Location_Pune  \n",
       "1                 0                0              1  \n",
       "2                 0                1              0  \n",
       "3                 0                0              0  \n",
       "4                 0                0              0  \n",
       "5                 0                0              1  \n",
       "\n",
       "[5 rows x 35 columns]"
      ]
     },
     "execution_count": 14,
     "metadata": {},
     "output_type": "execute_result"
    }
   ],
   "source": [
    "data1.drop(['Location','Home Type', \"Loan Purpose\", \"Loan Grade\", \"Default History\"], axis = 1, inplace = True)\n",
    "data1.head()"
   ]
  },
  {
   "cell_type": "code",
   "execution_count": 15,
   "metadata": {},
   "outputs": [
    {
     "name": "stdout",
     "output_type": "stream",
     "text": [
      "N    26830\n",
      "Y     5744\n",
      "Name: Default History, dtype: int64\n",
      "RENT        16442\n",
      "MORTGAGE    13441\n",
      "OWN          2584\n",
      "OTHER         107\n",
      "Name: Home Type, dtype: int64\n",
      "A    10776\n",
      "B    10448\n",
      "C     6456\n",
      "D     3625\n",
      "E      964\n",
      "F      241\n",
      "G       64\n",
      "Name: Loan Grade, dtype: int64\n",
      "EDUCATION            6451\n",
      "MEDICAL              6071\n",
      "VENTURE              5716\n",
      "PERSONAL             5519\n",
      "DEBTCONSOLIDATION    5212\n",
      "HOMEIMPROVEMENT      3605\n",
      "Name: Loan Purpose, dtype: int64\n",
      "Delhi        4731\n",
      "Hyderabad    4714\n",
      "Chennai      4708\n",
      "Mumbai       4677\n",
      "Kolkata      4645\n",
      "Bangalore    4639\n",
      "Pune         4460\n",
      "Name: Location, dtype: int64\n"
     ]
    }
   ],
   "source": [
    "print(data[\"Default History\"].value_counts())\n",
    "print(data[\"Home Type\"].value_counts())\n",
    "print(data[\"Loan Grade\"].value_counts())\n",
    "print(data[\"Loan Purpose\"].value_counts())\n",
    "print(data[\"Location\"].value_counts())"
   ]
  },
  {
   "cell_type": "code",
   "execution_count": 16,
   "metadata": {},
   "outputs": [],
   "source": [
    "data1.drop([\"Default_History_N\"],axis=1,inplace = True)\n",
    "data1.drop([\"Home_Type_RENT\"],axis=1, inplace=True)\n",
    "data1.drop([\"Loan_Grade_A\"], axis = 1, inplace = True)\n",
    "data1.drop([\"Loan_Purpose_EDUCATION\"], axis = 1, inplace=True)\n",
    "data1.drop([\"Location_Delhi\"], axis=1,inplace=True)"
   ]
  },
  {
   "cell_type": "markdown",
   "metadata": {},
   "source": [
    "### After removing one columns from each encoded variables the variable inflation factor is less"
   ]
  },
  {
   "cell_type": "code",
   "execution_count": 17,
   "metadata": {},
   "outputs": [
    {
     "data": {
      "text/plain": [
       "Cust_Id                             2.790830\n",
       "Age                                 4.700525\n",
       "Car Ownership                       1.001209\n",
       "Income                              1.238415\n",
       "Job Experience                      1.111433\n",
       "Loan Balance                        1.189750\n",
       "Interest Rate                      11.332626\n",
       "loan_status                         1.351648\n",
       "Credit History                      5.037011\n",
       "Home_Type_MORTGAGE                  1.272556\n",
       "Home_Type_OTHER                     1.005041\n",
       "Home_Type_OWN                       1.121237\n",
       "Loan_Grade_B                        4.540369\n",
       "Loan_Grade_C                        8.274207\n",
       "Loan_Grade_D                        8.586551\n",
       "Loan_Grade_E                        4.121916\n",
       "Loan_Grade_F                        2.070440\n",
       "Loan_Grade_G                        1.380119\n",
       "Loan_Purpose_DEBTCONSOLIDATION      1.543800\n",
       "Loan_Purpose_HOMEIMPROVEMENT        1.416483\n",
       "Loan_Purpose_MEDICAL                1.600966\n",
       "Loan_Purpose_PERSONAL               1.553560\n",
       "Loan_Purpose_VENTURE                1.567597\n",
       "Default_History_Y                   1.670027\n",
       "Location_Bangalore                  1.699414\n",
       "Location_Chennai                    1.708128\n",
       "Location_Hyderabad                  1.708380\n",
       "Location_Kolkata                    1.699936\n",
       "Location_Mumbai                     1.704064\n",
       "Location_Pune                       1.677884\n",
       "const                             123.129048\n",
       "dtype: float64"
      ]
     },
     "execution_count": 17,
     "metadata": {},
     "output_type": "execute_result"
    }
   ],
   "source": [
    "from statsmodels.stats.outliers_influence import variance_inflation_factor\n",
    "from statsmodels.tools.tools import add_constant\n",
    "X = data1.assign(const = 1)\n",
    "pd.Series([variance_inflation_factor(X.values,i)\n",
    "          for i in range(X.shape[1])],\n",
    "         index = X.columns)"
   ]
  },
  {
   "cell_type": "markdown",
   "metadata": {},
   "source": [
    "## To handle Class Imbalance, Resampling the data "
   ]
  },
  {
   "cell_type": "code",
   "execution_count": 50,
   "metadata": {},
   "outputs": [
    {
     "name": "stdout",
     "output_type": "stream",
     "text": [
      "count of 0 is  25467  Count of 1 is  7107\n"
     ]
    }
   ],
   "source": [
    "loan_status_0_count=data1.loan_status.value_counts()[0]\n",
    "loan_status_1_count=data1.loan_status.value_counts()[1]\n",
    "print(\"count of 0 is \", loan_status_0_count, \" Count of 1 is \", loan_status_1_count)"
   ]
  },
  {
   "cell_type": "code",
   "execution_count": 52,
   "metadata": {},
   "outputs": [],
   "source": [
    "loan_1=data1.loc[data1[\"loan_status\"]==1]\n",
    "loan_0=data1.loc[data1[\"loan_status\"]==0]"
   ]
  },
  {
   "cell_type": "code",
   "execution_count": 53,
   "metadata": {},
   "outputs": [
    {
     "name": "stdout",
     "output_type": "stream",
     "text": [
      "total class of 1 and 0: 0    25467\n",
      "1     7107\n",
      "Name: loan_status, dtype: int64\n"
     ]
    },
    {
     "data": {
      "text/plain": [
       "<AxesSubplot:title={'center':'count (target)'}>"
      ]
     },
     "execution_count": 53,
     "metadata": {},
     "output_type": "execute_result"
    },
    {
     "data": {
      "image/png": "[encoded data removed]",
      "text/plain": [
       "<Figure size 432x288 with 1 Axes>"
      ]
     },
     "metadata": {
      "needs_background": "light"
     },
     "output_type": "display_data"
    }
   ],
   "source": [
    "data_sample_1 = loan_1.sample(loan_status_0_count, replace=True)\n",
    "\n",
    "data_2 = pd.concat([data_sample_1, loan_0], axis=0)\n",
    "\n",
    "print(\"total class of 1 and 0:\",data1['loan_status'].value_counts())# plot the count after under-sampeling\n",
    "data_2['loan_status'].value_counts().plot(kind='bar', title='count (target)')"
   ]
  },
  {
   "cell_type": "code",
   "execution_count": 18,
   "metadata": {},
   "outputs": [],
   "source": [
    "import sklearn\n",
    "from sklearn.model_selection import train_test_split"
   ]
  },
  {
   "cell_type": "code",
   "execution_count": 75,
   "metadata": {},
   "outputs": [],
   "source": [
    "#Test Train Split\n",
    "\n",
    "#Train and test split\n",
    "from sklearn import preprocessing\n",
    "Y_data = data_2['loan_status']\n",
    "X_data = data_2.drop('loan_status',axis=1)\n",
    "\n",
    "X_data = preprocessing.StandardScaler().fit(X_data).transform(X_data.astype(float))\n",
    "x_train, x_test, y_train, y_test = train_test_split(X_data, Y_data, test_size = .2)"
   ]
  },
  {
   "cell_type": "code",
   "execution_count": 64,
   "metadata": {},
   "outputs": [],
   "source": [
    "def model_assess(model, name='Default'):\n",
    "    model.fit(x_train, y_train)\n",
    "    preds = model.predict(x_test)\n",
    "    #preds_proba = model.predict_proba(x_test)\n",
    "    print('                   ', name, '\\n',classification_report(y_test, model.predict(x_test)))"
   ]
  },
  {
   "cell_type": "code",
   "execution_count": 35,
   "metadata": {},
   "outputs": [],
   "source": [
    "from sklearn.metrics import classification_report\n",
    "from sklearn.neighbors import KNeighborsClassifier"
   ]
  },
  {
   "cell_type": "markdown",
   "metadata": {},
   "source": [
    "## KNN"
   ]
  },
  {
   "cell_type": "code",
   "execution_count": 76,
   "metadata": {},
   "outputs": [
    {
     "name": "stdout",
     "output_type": "stream",
     "text": [
      "                    KNN \n",
      "               precision    recall  f1-score   support\n",
      "\n",
      "           0       0.80      0.82      0.81      5116\n",
      "           1       0.82      0.79      0.80      5071\n",
      "\n",
      "    accuracy                           0.81     10187\n",
      "   macro avg       0.81      0.81      0.81     10187\n",
      "weighted avg       0.81      0.81      0.81     10187\n",
      "\n"
     ]
    }
   ],
   "source": [
    "#KNN\n",
    "knnneigh = KNeighborsClassifier(n_neighbors=8)\n",
    "model_assess(knnneigh, name='KNN')"
   ]
  },
  {
   "cell_type": "markdown",
   "metadata": {},
   "source": [
    "## Logistic Regression"
   ]
  },
  {
   "cell_type": "code",
   "execution_count": 77,
   "metadata": {},
   "outputs": [
    {
     "name": "stdout",
     "output_type": "stream",
     "text": [
      "                    Logistic Regression \n",
      "               precision    recall  f1-score   support\n",
      "\n",
      "           0       0.80      0.81      0.80      5116\n",
      "           1       0.80      0.80      0.80      5071\n",
      "\n",
      "    accuracy                           0.80     10187\n",
      "   macro avg       0.80      0.80      0.80     10187\n",
      "weighted avg       0.80      0.80      0.80     10187\n",
      "\n"
     ]
    }
   ],
   "source": [
    "#Logistic Regression\n",
    "from sklearn.linear_model import LogisticRegression\n",
    "logreg = LogisticRegression(random_state=0)\n",
    "model_assess(logreg, 'Logistic Regression')"
   ]
  },
  {
   "cell_type": "markdown",
   "metadata": {},
   "source": [
    "## XG Boosting"
   ]
  },
  {
   "cell_type": "code",
   "execution_count": 79,
   "metadata": {},
   "outputs": [],
   "source": [
    "#XGB\n",
    "import xgboost as xgb\n",
    "from xgboost.sklearn import XGBClassifier"
   ]
  },
  {
   "cell_type": "code",
   "execution_count": 80,
   "metadata": {},
   "outputs": [
    {
     "name": "stderr",
     "output_type": "stream",
     "text": [
      "D:\\Anaconda\\lib\\site-packages\\xgboost\\sklearn.py:888: UserWarning: The use of label encoder in XGBClassifier is deprecated and will be removed in a future release. To remove this warning, do the following: 1) Pass option use_label_encoder=False when constructing XGBClassifier object; and 2) Encode your labels (y) as integers starting with 0, i.e. 0, 1, 2, ..., [num_class - 1].\n",
      "  warnings.warn(label_encoder_deprecation_msg, UserWarning)\n"
     ]
    },
    {
     "name": "stdout",
     "output_type": "stream",
     "text": [
      "[21:08:20] WARNING: C:/Users/Administrator/workspace/xgboost-win64_release_1.3.0/src/learner.cc:1061: Starting in XGBoost 1.3.0, the default evaluation metric used with the objective 'binary:logistic' was changed from 'error' to 'logloss'. Explicitly set eval_metric if you'd like to restore the old behavior.\n",
      "                    XGBoost \n",
      "               precision    recall  f1-score   support\n",
      "\n",
      "           0       0.93      0.96      0.94      5116\n",
      "           1       0.96      0.92      0.94      5071\n",
      "\n",
      "    accuracy                           0.94     10187\n",
      "   macro avg       0.94      0.94      0.94     10187\n",
      "weighted avg       0.94      0.94      0.94     10187\n",
      "\n"
     ]
    }
   ],
   "source": [
    "xgb = xgb.XGBClassifier(objective=\"binary:logistic\", random_state=42) \n",
    "model_assess(xgb, 'XGBoost')"
   ]
  },
  {
   "cell_type": "markdown",
   "metadata": {},
   "source": [
    "## Decision Trees"
   ]
  },
  {
   "cell_type": "code",
   "execution_count": 81,
   "metadata": {},
   "outputs": [
    {
     "name": "stdout",
     "output_type": "stream",
     "text": [
      "                    DecisionTree Classifier \n",
      "               precision    recall  f1-score   support\n",
      "\n",
      "           0       0.82      0.94      0.88      5116\n",
      "           1       0.93      0.79      0.86      5071\n",
      "\n",
      "    accuracy                           0.87     10187\n",
      "   macro avg       0.87      0.87      0.87     10187\n",
      "weighted avg       0.87      0.87      0.87     10187\n",
      "\n"
     ]
    }
   ],
   "source": [
    "\n",
    "from sklearn.tree import DecisionTreeClassifier\n",
    "Dec_tree = DecisionTreeClassifier(max_depth=10, min_samples_split=2, min_samples_leaf=1, random_state=42)\n",
    "model_assess(Dec_tree, 'DecisionTree Classifier')"
   ]
  },
  {
   "cell_type": "markdown",
   "metadata": {},
   "source": [
    "## Random Forest"
   ]
  },
  {
   "cell_type": "code",
   "execution_count": 82,
   "metadata": {},
   "outputs": [],
   "source": [
    "from sklearn.ensemble import RandomForestClassifier"
   ]
  },
  {
   "cell_type": "code",
   "execution_count": 83,
   "metadata": {},
   "outputs": [
    {
     "name": "stdout",
     "output_type": "stream",
     "text": [
      "                    Random Forest \n",
      "               precision    recall  f1-score   support\n",
      "\n",
      "           0       0.98      0.97      0.98      5116\n",
      "           1       0.98      0.98      0.98      5071\n",
      "\n",
      "    accuracy                           0.98     10187\n",
      "   macro avg       0.98      0.98      0.98     10187\n",
      "weighted avg       0.98      0.98      0.98     10187\n",
      "\n"
     ]
    }
   ],
   "source": [
    "r_forest = RandomForestClassifier(n_estimators=500, bootstrap=True, max_features='sqrt')\n",
    "model_assess(r_forest, 'Random Forest')"
   ]
  },
  {
   "cell_type": "markdown",
   "metadata": {},
   "source": [
    "## Hierarchial Clustering"
   ]
  },
  {
   "cell_type": "code",
   "execution_count": 84,
   "metadata": {},
   "outputs": [],
   "source": [
    "from sklearn.cluster import AgglomerativeClustering"
   ]
  },
  {
   "cell_type": "code",
   "execution_count": 85,
   "metadata": {},
   "outputs": [],
   "source": [
    "import scipy.cluster.hierarchy as sch"
   ]
  },
  {
   "cell_type": "code",
   "execution_count": 32,
   "metadata": {},
   "outputs": [
    {
     "data": {
      "image/png": "[encoded data removed]",
      "text/plain": [
       "<Figure size 432x288 with 1 Axes>"
      ]
     },
     "metadata": {
      "needs_background": "light"
     },
     "output_type": "display_data"
    }
   ],
   "source": [
    "dendrogram = sch.dendrogram(sch.linkage(data1, method='ward'))"
   ]
  },
  {
   "cell_type": "code",
   "execution_count": 86,
   "metadata": {},
   "outputs": [
    {
     "name": "stdout",
     "output_type": "stream",
     "text": [
      "                    Hierarchial Clustering \n",
      "               precision    recall  f1-score   support\n",
      "\n",
      "           0       0.60      0.83      0.70      5116\n",
      "           1       0.85      0.09      0.16      5071\n",
      "           2       0.00      0.00      0.00         0\n",
      "           3       0.00      0.00      0.00         0\n",
      "\n",
      "    accuracy                           0.46     10187\n",
      "   macro avg       0.36      0.23      0.21     10187\n",
      "weighted avg       0.72      0.46      0.43     10187\n",
      "\n"
     ]
    },
    {
     "name": "stderr",
     "output_type": "stream",
     "text": [
      "D:\\Anaconda\\lib\\site-packages\\sklearn\\metrics\\_classification.py:1221: UndefinedMetricWarning: Recall and F-score are ill-defined and being set to 0.0 in labels with no true samples. Use `zero_division` parameter to control this behavior.\n",
      "  _warn_prf(average, modifier, msg_start, len(result))\n"
     ]
    }
   ],
   "source": [
    "hr_cluster = AgglomerativeClustering(n_clusters=4, affinity='euclidean', linkage='ward')\n",
    "#Hrcl_Cluster = AgglomerativeClustering(n_clusters=4, linkage='complete').fit(data1)\n",
    "#model_assess(hr_cluster, 'Hierarchial Clustering')\n",
    "hr_cluster.fit(x_train, y_train)\n",
    "preds = hr_cluster.fit_predict(x_test)\n",
    "print('                   ', \"Hierarchial Clustering\", '\\n',classification_report(y_test, preds))"
   ]
  },
  {
   "cell_type": "markdown",
   "metadata": {},
   "source": [
    "## SVM"
   ]
  },
  {
   "cell_type": "code",
   "execution_count": 35,
   "metadata": {},
   "outputs": [],
   "source": [
    "from sklearn.svm import LinearSVC\n",
    "from sklearn import svm"
   ]
  },
  {
   "cell_type": "code",
   "execution_count": null,
   "metadata": {},
   "outputs": [],
   "source": [
    "support_vect = svm.SVC(kernel='linear')\n",
    "model_assess(support_vect, 'SVM')"
   ]
  },
  {
   "cell_type": "markdown",
   "metadata": {},
   "source": [
    "## K Means"
   ]
  },
  {
   "cell_type": "code",
   "execution_count": null,
   "metadata": {},
   "outputs": [],
   "source": [
    "wcss = []\n",
    "for i in range(1, 11):\n",
    "    kmeans = KMeans(n_clusters=i, init='k-means++', max_iter=300, n_init=10, random_state=0)\n",
    "    kmeans.fit(df)\n",
    "    wcss.append(kmeans.inertia_)\n",
    "plt.plot(range(1, 11), wcss)\n",
    "plt.title('Elbow Method')\n",
    "plt.xlabel('Number of clusters')\n",
    "plt.ylabel('WCSS')\n",
    "plt.show()"
   ]
  },
  {
   "cell_type": "code",
   "execution_count": 87,
   "metadata": {},
   "outputs": [
    {
     "name": "stdout",
     "output_type": "stream",
     "text": [
      "                    K means \n",
      "               precision    recall  f1-score   support\n",
      "\n",
      "           0       0.32      0.28      0.29      5116\n",
      "           1       0.35      0.40      0.37      5071\n",
      "\n",
      "    accuracy                           0.34     10187\n",
      "   macro avg       0.33      0.34      0.33     10187\n",
      "weighted avg       0.33      0.34      0.33     10187\n",
      "\n"
     ]
    }
   ],
   "source": [
    "from sklearn.cluster import KMeans\n",
    "kmeans = KMeans(n_clusters=2, init='k-means++', max_iter=300, n_init=10, random_state=0)\n",
    "model_assess(kmeans, 'K means')\n",
    "#preds = kmeans.fit_predict(x_test)\n",
    "#print('                   ', \"Hierarchial Clustering\", '\\n',classification_report(y_test, preds))"
   ]
  },
  {
   "cell_type": "code",
   "execution_count": 46,
   "metadata": {},
   "outputs": [
    {
     "data": {
      "text/plain": [
       "0    25467\n",
       "1     7107\n",
       "Name: loan_status, dtype: int64"
      ]
     },
     "execution_count": 46,
     "metadata": {},
     "output_type": "execute_result"
    }
   ],
   "source": [
    "data1.loan_status.value_counts()"
   ]
  },
  {
   "cell_type": "markdown",
   "metadata": {},
   "source": [
    "## ROC Curve"
   ]
  },
  {
   "cell_type": "code",
   "execution_count": 91,
   "metadata": {},
   "outputs": [],
   "source": [
    "from sklearn import model_selection,linear_model, metrics\n",
    "from sklearn.metrics import auc, accuracy_score, confusion_matrix, roc_auc_score, classification_report"
   ]
  },
  {
   "cell_type": "code",
   "execution_count": 94,
   "metadata": {},
   "outputs": [
    {
     "data": {
      "image/png": "[encoded data removed]",
      "text/plain": [
       "<Figure size 1008x720 with 1 Axes>"
      ]
     },
     "metadata": {
      "needs_background": "light"
     },
     "output_type": "display_data"
    }
   ],
   "source": [
    "#ROC AUC\n",
    "fig = plt.figure(figsize=(14,10))\n",
    "plt.plot([0, 1], [0, 1],'r--')\n",
    "#KNN\n",
    "preds_proba_knn = knnneigh.predict_proba(x_test)\n",
    "probsknn = preds_proba_knn[:, 1]\n",
    "fpr, tpr, thresh = metrics.roc_curve(y_test, probsknn)\n",
    "aucknn = roc_auc_score(y_test, probsknn)\n",
    "plt.plot(fpr, tpr, label=f'KNN, AUC = {str(round(aucknn,3))}')\n",
    "\n",
    "#Logistic Regression\n",
    "preds_proba_lg = logreg.predict_proba(x_test)\n",
    "probslg = preds_proba_lg[:, 1]\n",
    "fpr, tpr, thresh = metrics.roc_curve(y_test, probslg)\n",
    "auclg = roc_auc_score(y_test, probslg)\n",
    "plt.plot(fpr, tpr, label=f'Logistic Regression, AUC = {str(round(auclg,3))}')\n",
    "#XGBoost\n",
    "preds_proba_xgb = xgb.predict_proba(x_test)\n",
    "probsxgb = preds_proba_xgb[:, 1]\n",
    "fpr, tpr, thresh = metrics.roc_curve(y_test, probsxgb)\n",
    "aucxgb = roc_auc_score(y_test, probsxgb)\n",
    "plt.plot(fpr, tpr, label=f'XGBoost, AUC = {str(round(aucxgb,3))}')\n",
    "#RandomForest\n",
    "preds_proba_rf = r_forest.predict_proba(x_test)\n",
    "probsrf = preds_proba_rf[:, 1]\n",
    "fpr, tpr, thresh = metrics.roc_curve(y_test, probsrf)\n",
    "aucrf = roc_auc_score(y_test, probsrf)\n",
    "plt.plot(fpr, tpr, label=f'RandomForest, AUC = {str(round(aucrf,3))}')\n",
    "plt.ylabel(\"True Positive Rate\")\n",
    "plt.xlabel(\"False Positive Rate\")\n",
    "plt.title(\"ROC curve\")\n",
    "plt.rcParams['axes.titlesize'] = 18\n",
    "plt.legend()\n",
    "plt.show()"
   ]
  },
  {
   "cell_type": "markdown",
   "metadata": {},
   "source": [
    "### From the above ROC curve, it is clearly evident that Random Forest model predicts with highest accuracy value of 98% and highest AUC value for 0.997 for defaultered loan status."
   ]
  }
 ],
 "metadata": {
  "kernelspec": {
   "display_name": "Python 3",
   "language": "python",
   "name": "python3"
  },
  "language_info": {
   "codemirror_mode": {
    "name": "ipython",
    "version": 3
   },
   "file_extension": ".py",
   "mimetype": "text/x-python",
   "name": "python",
   "nbconvert_exporter": "python",
   "pygments_lexer": "ipython3",
   "version": "3.8.5"
  }
 },
 "nbformat": 4,
 "nbformat_minor": 4
}
